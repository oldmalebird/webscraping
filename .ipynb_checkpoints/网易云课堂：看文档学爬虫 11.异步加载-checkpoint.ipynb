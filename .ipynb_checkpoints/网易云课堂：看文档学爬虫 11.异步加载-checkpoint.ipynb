{
 "cells": [
  {
   "cell_type": "markdown",
   "metadata": {},
   "source": [
    "# 网易云课堂：看文档学爬虫(python3.6)"
   ]
  },
  {
   "cell_type": "markdown",
   "metadata": {},
   "source": [
    "## 11.异步加载"
   ]
  },
  {
   "cell_type": "code",
   "execution_count": 1,
   "metadata": {},
   "outputs": [],
   "source": [
    "import requests\n",
    "import re\n",
    "from bs4 import BeautifulSoup"
   ]
  },
  {
   "cell_type": "code",
   "execution_count": 2,
   "metadata": {},
   "outputs": [],
   "source": [
    "headers = {\n",
    "    'accept': 'text/javascript, application/javascript, application/ecmascript, application/x-ecmascript, */*; q=0.01',\n",
    "    'user-Agent': 'Mozilla/5.0 (Windows NT 10.0; Win64; x64) AppleWebKit/537.36 (KHTML, like Gecko) Chrome/68.0.3440.75 Safari/537.36'}"
   ]
  },
  {
   "cell_type": "code",
   "execution_count": 12,
   "metadata": {},
   "outputs": [],
   "source": [
    "urls = ['https://www.pexels.com/?page={}'.format(str(i)) for i in range (1,2)]\n",
    "photos = []"
   ]
  },
  {
   "cell_type": "code",
   "execution_count": 13,
   "metadata": {},
   "outputs": [
    {
     "name": "stdout",
     "output_type": "stream",
     "text": [
      "24\n",
      "[<img alt=\"Free stock photo of person, woman, girl, trees\" class=\"photo-item__img\" data-big-src=\"https://images.pexels.com/photos/573273/pexels-photo-573273.jpeg?auto=compress&amp;cs=tinysrgb&amp;h=750&amp;w=1260\" data-large-src=\"https://images.pexels.com/photos/573273/pexels-photo-573273.jpeg?auto=compress&amp;cs=tinysrgb&amp;h=650&amp;w=940\" data-pin-media=\"https://images.pexels.com/photos/573273/pexels-photo-573273.jpeg?auto=compress&amp;cs=tinysrgb&amp;fit=crop&amp;h=1200&amp;w=800\" height=\"350\" src=\"https://images.pexels.com/photos/573273/pexels-photo-573273.jpeg?auto=compress&amp;cs=tinysrgb&amp;h=350\" srcset=\"https://images.pexels.com/photos/573273/pexels-photo-573273.jpeg?auto=compress&amp;cs=tinysrgb&amp;h=350 1x, https://images.pexels.com/photos/573273/pexels-photo-573273.jpeg?auto=compress&amp;cs=tinysrgb&amp;dpr=2&amp;h=350 2x\" style=\"background:rgb(57,43,28)\" width=\"525\"/>, <img class=\"photo-item__avatar\" height=\"30\" src=\"https://images.pexels.com/users/avatars/177895/matheus-ferreira-111.jpeg?w=60&amp;h=60&amp;fit=crop&amp;crop=faces\" width=\"30\"/>, <img alt=\"Gray Concrete Pathway Between Red-and-black Pillars\" class=\"photo-item__img\" data-big-src=\"https://images.pexels.com/photos/1310788/pexels-photo-1310788.jpeg?auto=compress&amp;cs=tinysrgb&amp;h=750&amp;w=1260\" data-large-src=\"https://images.pexels.com/photos/1310788/pexels-photo-1310788.jpeg?auto=compress&amp;cs=tinysrgb&amp;h=650&amp;w=940\" data-pin-media=\"https://images.pexels.com/photos/1310788/pexels-photo-1310788.jpeg?auto=compress&amp;cs=tinysrgb&amp;fit=crop&amp;h=1200&amp;w=800\" height=\"350\" src=\"https://images.pexels.com/photos/1310788/pexels-photo-1310788.jpeg?auto=compress&amp;cs=tinysrgb&amp;h=350\" srcset=\"https://images.pexels.com/photos/1310788/pexels-photo-1310788.jpeg?auto=compress&amp;cs=tinysrgb&amp;h=350 1x, https://images.pexels.com/photos/1310788/pexels-photo-1310788.jpeg?auto=compress&amp;cs=tinysrgb&amp;dpr=2&amp;h=350 2x\" style=\"background:rgb(118,30,12)\" width=\"525\"/>, <img class=\"photo-item__avatar\" height=\"30\" src=\"https://images.pexels.com/users/avatars/557790/vincent-janssen-766.jpeg?w=60&amp;h=60&amp;fit=crop&amp;crop=faces\" width=\"30\"/>, <img alt=\"Bird's Eye View Photography of City\" class=\"photo-item__img\" data-big-src=\"https://images.pexels.com/photos/1482778/pexels-photo-1482778.jpeg?auto=compress&amp;cs=tinysrgb&amp;h=750&amp;w=1260\" data-large-src=\"https://images.pexels.com/photos/1482778/pexels-photo-1482778.jpeg?auto=compress&amp;cs=tinysrgb&amp;h=650&amp;w=940\" data-pin-media=\"https://images.pexels.com/photos/1482778/pexels-photo-1482778.jpeg?auto=compress&amp;cs=tinysrgb&amp;fit=crop&amp;h=1200&amp;w=800\" height=\"350\" src=\"https://images.pexels.com/photos/1482778/pexels-photo-1482778.jpeg?auto=compress&amp;cs=tinysrgb&amp;h=350\" srcset=\"https://images.pexels.com/photos/1482778/pexels-photo-1482778.jpeg?auto=compress&amp;cs=tinysrgb&amp;h=350 1x, https://images.pexels.com/photos/1482778/pexels-photo-1482778.jpeg?auto=compress&amp;cs=tinysrgb&amp;dpr=2&amp;h=350 2x\" style=\"background:rgb(63,63,54)\" width=\"622\"/>, <img class=\"photo-item__avatar\" height=\"30\" src=\"https://images.pexels.com/users/avatars/177895/matheus-ferreira-111.jpeg?w=60&amp;h=60&amp;fit=crop&amp;crop=faces\" width=\"30\"/>, <img alt=\"Man Standing on the Road Near Green Grass during Sunrise\" class=\"photo-item__img\" data-big-src=\"https://images.pexels.com/photos/92923/pexels-photo-92923.jpeg?auto=compress&amp;cs=tinysrgb&amp;h=750&amp;w=1260\" data-large-src=\"https://images.pexels.com/photos/92923/pexels-photo-92923.jpeg?auto=compress&amp;cs=tinysrgb&amp;h=650&amp;w=940\" data-pin-media=\"https://images.pexels.com/photos/92923/pexels-photo-92923.jpeg?auto=compress&amp;cs=tinysrgb&amp;fit=crop&amp;h=1200&amp;w=800\" height=\"350\" src=\"https://images.pexels.com/photos/92923/pexels-photo-92923.jpeg?auto=compress&amp;cs=tinysrgb&amp;h=350\" srcset=\"https://images.pexels.com/photos/92923/pexels-photo-92923.jpeg?auto=compress&amp;cs=tinysrgb&amp;h=350 1x, https://images.pexels.com/photos/92923/pexels-photo-92923.jpeg?auto=compress&amp;cs=tinysrgb&amp;dpr=2&amp;h=350 2x\" style=\"background:rgb(42,61,80)\" width=\"525\"/>, <img class=\"photo-item__avatar\" height=\"30\" src=\"https://images.pexels.com/users/avatars/2671/snapwire-684.png?w=60&amp;h=60&amp;fit=crop&amp;crop=faces\" width=\"30\"/>, <img alt=\"Person Sitting on Rock on Body of Water\" class=\"photo-item__img\" data-big-src=\"https://images.pexels.com/photos/1478685/pexels-photo-1478685.jpeg?auto=compress&amp;cs=tinysrgb&amp;h=750&amp;w=1260\" data-large-src=\"https://images.pexels.com/photos/1478685/pexels-photo-1478685.jpeg?auto=compress&amp;cs=tinysrgb&amp;h=650&amp;w=940\" data-pin-media=\"https://images.pexels.com/photos/1478685/pexels-photo-1478685.jpeg?auto=compress&amp;cs=tinysrgb&amp;fit=crop&amp;h=1200&amp;w=800\" height=\"350\" src=\"https://images.pexels.com/photos/1478685/pexels-photo-1478685.jpeg?auto=compress&amp;cs=tinysrgb&amp;h=350\" srcset=\"https://images.pexels.com/photos/1478685/pexels-photo-1478685.jpeg?auto=compress&amp;cs=tinysrgb&amp;h=350 1x, https://images.pexels.com/photos/1478685/pexels-photo-1478685.jpeg?auto=compress&amp;cs=tinysrgb&amp;dpr=2&amp;h=350 2x\" style=\"background:rgb(63,60,61)\" width=\"526\"/>, <img class=\"photo-item__avatar\" height=\"30\" src=\"https://images.pexels.com/users/avatars/557040/keegan-houser-540.jpeg?w=60&amp;h=60&amp;fit=crop&amp;crop=faces\" width=\"30\"/>, <img alt=\"Osaka Temple, Japan\" class=\"photo-item__img\" data-big-src=\"https://images.pexels.com/photos/1480500/pexels-photo-1480500.jpeg?auto=compress&amp;cs=tinysrgb&amp;h=750&amp;w=1260\" data-large-src=\"https://images.pexels.com/photos/1480500/pexels-photo-1480500.jpeg?auto=compress&amp;cs=tinysrgb&amp;h=650&amp;w=940\" data-pin-media=\"https://images.pexels.com/photos/1480500/pexels-photo-1480500.jpeg?auto=compress&amp;cs=tinysrgb&amp;fit=crop&amp;h=1200&amp;w=800\" height=\"350\" src=\"https://images.pexels.com/photos/1480500/pexels-photo-1480500.jpeg?auto=compress&amp;cs=tinysrgb&amp;h=350\" srcset=\"https://images.pexels.com/photos/1480500/pexels-photo-1480500.jpeg?auto=compress&amp;cs=tinysrgb&amp;h=350 1x, https://images.pexels.com/photos/1480500/pexels-photo-1480500.jpeg?auto=compress&amp;cs=tinysrgb&amp;dpr=2&amp;h=350 2x\" style=\"background:rgb(82,77,77)\" width=\"339\"/>, <img class=\"photo-item__avatar\" height=\"30\" src=\"https://images.pexels.com/users/avatars/259965/satoshi-hirayama-620.jpg?w=60&amp;h=60&amp;fit=crop&amp;crop=faces\" width=\"30\"/>, <img alt=\"Seashore Under Gray Sky\" class=\"photo-item__img\" data-big-src=\"https://images.pexels.com/photos/1478522/pexels-photo-1478522.jpeg?auto=compress&amp;cs=tinysrgb&amp;h=750&amp;w=1260\" data-large-src=\"https://images.pexels.com/photos/1478522/pexels-photo-1478522.jpeg?auto=compress&amp;cs=tinysrgb&amp;h=650&amp;w=940\" data-pin-media=\"https://images.pexels.com/photos/1478522/pexels-photo-1478522.jpeg?auto=compress&amp;cs=tinysrgb&amp;fit=crop&amp;h=1200&amp;w=800\" height=\"350\" src=\"https://images.pexels.com/photos/1478522/pexels-photo-1478522.jpeg?auto=compress&amp;cs=tinysrgb&amp;h=350\" srcset=\"https://images.pexels.com/photos/1478522/pexels-photo-1478522.jpeg?auto=compress&amp;cs=tinysrgb&amp;h=350 1x, https://images.pexels.com/photos/1478522/pexels-photo-1478522.jpeg?auto=compress&amp;cs=tinysrgb&amp;dpr=2&amp;h=350 2x\" style=\"background:rgb(56,96,99)\" width=\"901\"/>, <img class=\"photo-item__avatar\" height=\"30\" src=\"https://images.pexels.com/users/avatars/11929/josh-sorenson-170.jpeg?w=60&amp;h=60&amp;fit=crop&amp;crop=faces\" width=\"30\"/>, <img alt=\"Free stock photo of person, woman, art, creative\" class=\"photo-item__img\" data-big-src=\"https://images.pexels.com/photos/458381/pexels-photo-458381.jpeg?auto=compress&amp;cs=tinysrgb&amp;h=750&amp;w=1260\" data-large-src=\"https://images.pexels.com/photos/458381/pexels-photo-458381.jpeg?auto=compress&amp;cs=tinysrgb&amp;h=650&amp;w=940\" data-pin-media=\"https://images.pexels.com/photos/458381/pexels-photo-458381.jpeg?auto=compress&amp;cs=tinysrgb&amp;fit=crop&amp;h=1200&amp;w=800\" height=\"350\" src=\"https://images.pexels.com/photos/458381/pexels-photo-458381.jpeg?auto=compress&amp;cs=tinysrgb&amp;h=350\" srcset=\"https://images.pexels.com/photos/458381/pexels-photo-458381.jpeg?auto=compress&amp;cs=tinysrgb&amp;h=350 1x, https://images.pexels.com/photos/458381/pexels-photo-458381.jpeg?auto=compress&amp;cs=tinysrgb&amp;dpr=2&amp;h=350 2x\" style=\"background:rgb(91,99,85)\" width=\"479\"/>, <img class=\"photo-item__avatar\" height=\"30\" src=\"https://images.pexels.com/users/avatars/2659/pixabay-617.png?w=60&amp;h=60&amp;fit=crop&amp;crop=faces\" width=\"30\"/>, <img alt=\"Black Steel Lamp Post\" class=\"photo-item__img\" data-big-src=\"https://images.pexels.com/photos/1070945/pexels-photo-1070945.jpeg?auto=compress&amp;cs=tinysrgb&amp;h=750&amp;w=1260\" data-large-src=\"https://images.pexels.com/photos/1070945/pexels-photo-1070945.jpeg?auto=compress&amp;cs=tinysrgb&amp;h=650&amp;w=940\" data-pin-media=\"https://images.pexels.com/photos/1070945/pexels-photo-1070945.jpeg?auto=compress&amp;cs=tinysrgb&amp;fit=crop&amp;h=1200&amp;w=800\" height=\"350\" src=\"https://images.pexels.com/photos/1070945/pexels-photo-1070945.jpeg?auto=compress&amp;cs=tinysrgb&amp;h=350\" srcset=\"https://images.pexels.com/photos/1070945/pexels-photo-1070945.jpeg?auto=compress&amp;cs=tinysrgb&amp;h=350 1x, https://images.pexels.com/photos/1070945/pexels-photo-1070945.jpeg?auto=compress&amp;cs=tinysrgb&amp;dpr=2&amp;h=350 2x\" style=\"background:rgb(97,97,83)\" width=\"525\"/>, <img class=\"photo-item__avatar\" height=\"30\" src=\"https://images.pexels.com/users/avatars/220024/daria-shevtsova-140.jpeg?w=60&amp;h=60&amp;fit=crop&amp;crop=faces\" width=\"30\"/>, <img alt=\"Free stock photo of cars, road, vehicles, street\" class=\"photo-item__img\" data-big-src=\"https://images.pexels.com/photos/339814/pexels-photo-339814.jpeg?auto=compress&amp;cs=tinysrgb&amp;h=750&amp;w=1260\" data-large-src=\"https://images.pexels.com/photos/339814/pexels-photo-339814.jpeg?auto=compress&amp;cs=tinysrgb&amp;h=650&amp;w=940\" data-pin-media=\"https://images.pexels.com/photos/339814/pexels-photo-339814.jpeg?auto=compress&amp;cs=tinysrgb&amp;fit=crop&amp;h=1200&amp;w=800\" height=\"350\" src=\"https://images.pexels.com/photos/339814/pexels-photo-339814.jpeg?auto=compress&amp;cs=tinysrgb&amp;h=350\" srcset=\"https://images.pexels.com/photos/339814/pexels-photo-339814.jpeg?auto=compress&amp;cs=tinysrgb&amp;h=350 1x, https://images.pexels.com/photos/339814/pexels-photo-339814.jpeg?auto=compress&amp;cs=tinysrgb&amp;dpr=2&amp;h=350 2x\" style=\"background:rgb(86,103,108)\" width=\"622\"/>, <img class=\"photo-item__avatar\" height=\"30\" src=\"https://images.pexels.com/users/avatars/82397/ibrahim-boran-555.jpeg?w=60&amp;h=60&amp;fit=crop&amp;crop=faces\" width=\"30\"/>, <img alt=\"Worm's Eye View Photography of High-rise Building\" class=\"photo-item__img\" data-big-src=\"https://images.pexels.com/photos/1478259/pexels-photo-1478259.jpeg?auto=compress&amp;cs=tinysrgb&amp;h=750&amp;w=1260\" data-large-src=\"https://images.pexels.com/photos/1478259/pexels-photo-1478259.jpeg?auto=compress&amp;cs=tinysrgb&amp;h=650&amp;w=940\" data-pin-media=\"https://images.pexels.com/photos/1478259/pexels-photo-1478259.jpeg?auto=compress&amp;cs=tinysrgb&amp;fit=crop&amp;h=1200&amp;w=800\" height=\"350\" src=\"https://images.pexels.com/photos/1478259/pexels-photo-1478259.jpeg?auto=compress&amp;cs=tinysrgb&amp;h=350\" srcset=\"https://images.pexels.com/photos/1478259/pexels-photo-1478259.jpeg?auto=compress&amp;cs=tinysrgb&amp;h=350 1x, https://images.pexels.com/photos/1478259/pexels-photo-1478259.jpeg?auto=compress&amp;cs=tinysrgb&amp;dpr=2&amp;h=350 2x\" style=\"background:rgb(99,115,136)\" width=\"525\"/>, <img class=\"photo-item__avatar\" height=\"30\" src=\"https://images.pexels.com/users/avatars/233620/ivan-rivero-264.png?w=60&amp;h=60&amp;fit=crop&amp;crop=faces\" width=\"30\"/>, <img alt=\"White Boat Sailing Near Islands during Golden Hour\" class=\"photo-item__img\" data-big-src=\"https://images.pexels.com/photos/1481096/pexels-photo-1481096.jpeg?auto=compress&amp;cs=tinysrgb&amp;h=750&amp;w=1260\" data-large-src=\"https://images.pexels.com/photos/1481096/pexels-photo-1481096.jpeg?auto=compress&amp;cs=tinysrgb&amp;h=650&amp;w=940\" data-pin-media=\"https://images.pexels.com/photos/1481096/pexels-photo-1481096.jpeg?auto=compress&amp;cs=tinysrgb&amp;fit=crop&amp;h=1200&amp;w=800\" height=\"350\" src=\"https://images.pexels.com/photos/1481096/pexels-photo-1481096.jpeg?auto=compress&amp;cs=tinysrgb&amp;h=350\" srcset=\"https://images.pexels.com/photos/1481096/pexels-photo-1481096.jpeg?auto=compress&amp;cs=tinysrgb&amp;h=350 1x, https://images.pexels.com/photos/1481096/pexels-photo-1481096.jpeg?auto=compress&amp;cs=tinysrgb&amp;dpr=2&amp;h=350 2x\" style=\"background:rgb(119,120,113)\" width=\"503\"/>, <img class=\"photo-item__avatar\" height=\"30\" src=\"https://images.pexels.com/users/avatars/146718/nextvoyage-492.jpeg?w=60&amp;h=60&amp;fit=crop&amp;crop=faces\" width=\"30\"/>]\n",
      "['https://images.pexels.com/photos/573273/pexels-photo-573273.jpeg?auto=compress&cs=tinysrgb&h=350', 'https://images.pexels.com/users/avatars/177895/matheus-ferreira-111.jpeg?w=60&h=60&fit=crop&crop=faces', 'https://images.pexels.com/photos/1310788/pexels-photo-1310788.jpeg?auto=compress&cs=tinysrgb&h=350', 'https://images.pexels.com/users/avatars/557790/vincent-janssen-766.jpeg?w=60&h=60&fit=crop&crop=faces', 'https://images.pexels.com/photos/1482778/pexels-photo-1482778.jpeg?auto=compress&cs=tinysrgb&h=350', 'https://images.pexels.com/users/avatars/177895/matheus-ferreira-111.jpeg?w=60&h=60&fit=crop&crop=faces', 'https://images.pexels.com/photos/92923/pexels-photo-92923.jpeg?auto=compress&cs=tinysrgb&h=350', 'https://images.pexels.com/users/avatars/2671/snapwire-684.png?w=60&h=60&fit=crop&crop=faces', 'https://images.pexels.com/photos/1478685/pexels-photo-1478685.jpeg?auto=compress&cs=tinysrgb&h=350', 'https://images.pexels.com/users/avatars/557040/keegan-houser-540.jpeg?w=60&h=60&fit=crop&crop=faces', 'https://images.pexels.com/photos/1480500/pexels-photo-1480500.jpeg?auto=compress&cs=tinysrgb&h=350', 'https://images.pexels.com/users/avatars/259965/satoshi-hirayama-620.jpg?w=60&h=60&fit=crop&crop=faces', 'https://images.pexels.com/photos/1478522/pexels-photo-1478522.jpeg?auto=compress&cs=tinysrgb&h=350', 'https://images.pexels.com/users/avatars/11929/josh-sorenson-170.jpeg?w=60&h=60&fit=crop&crop=faces', 'https://images.pexels.com/photos/458381/pexels-photo-458381.jpeg?auto=compress&cs=tinysrgb&h=350', 'https://images.pexels.com/users/avatars/2659/pixabay-617.png?w=60&h=60&fit=crop&crop=faces', 'https://images.pexels.com/photos/1070945/pexels-photo-1070945.jpeg?auto=compress&cs=tinysrgb&h=350', 'https://images.pexels.com/users/avatars/220024/daria-shevtsova-140.jpeg?w=60&h=60&fit=crop&crop=faces', 'https://images.pexels.com/photos/339814/pexels-photo-339814.jpeg?auto=compress&cs=tinysrgb&h=350', 'https://images.pexels.com/users/avatars/82397/ibrahim-boran-555.jpeg?w=60&h=60&fit=crop&crop=faces', 'https://images.pexels.com/photos/1478259/pexels-photo-1478259.jpeg?auto=compress&cs=tinysrgb&h=350', 'https://images.pexels.com/users/avatars/233620/ivan-rivero-264.png?w=60&h=60&fit=crop&crop=faces', 'https://images.pexels.com/photos/1481096/pexels-photo-1481096.jpeg?auto=compress&cs=tinysrgb&h=350', 'https://images.pexels.com/users/avatars/146718/nextvoyage-492.jpeg?w=60&h=60&fit=crop&crop=faces']\n",
      "24\n"
     ]
    }
   ],
   "source": [
    "for url in urls:\n",
    "    wb_data = requests.get(url, headers=headers)\n",
    "    soup = BeautifulSoup(wb_data.text, 'lxml')\n",
    "    imgs = soup.select('article.photo-item > a > img')\n",
    "    print(len(imgs))\n",
    "    print(imgs)\n",
    "    for img in imgs:\n",
    "        photo = img.get('src')\n",
    "        photos.append(photo)\n",
    "print(photos)\n",
    "print(len(photos))"
   ]
  },
  {
   "cell_type": "code",
   "execution_count": 19,
   "metadata": {},
   "outputs": [
    {
     "name": "stdout",
     "output_type": "stream",
     "text": [
      "['pexels-photo-573273.jpeg']\n",
      "[]\n",
      "['pexels-photo-1310788.jpeg']\n",
      "[]\n",
      "['pexels-photo-1482778.jpeg']\n",
      "[]\n",
      "['pexels-photo-92923.jpeg']\n",
      "[]\n",
      "['pexels-photo-1478685.jpeg']\n",
      "[]\n",
      "['pexels-photo-1480500.jpeg']\n",
      "[]\n",
      "['pexels-photo-1478522.jpeg']\n",
      "[]\n",
      "['pexels-photo-458381.jpeg']\n",
      "[]\n",
      "['pexels-photo-1070945.jpeg']\n",
      "[]\n",
      "['pexels-photo-339814.jpeg']\n",
      "[]\n",
      "['pexels-photo-1478259.jpeg']\n",
      "[]\n",
      "['pexels-photo-1481096.jpeg']\n",
      "[]\n"
     ]
    }
   ],
   "source": [
    "path = 'D://Github/webscraping/'\n",
    "for item in photos:\n",
    "    data = requests.get(item, headers=headers)\n",
    "    photo_name = re.findall('\\/\\d+\\/(.*?)\\?a',item)\n",
    "    print(photo_name)\n",
    "    if photo_name:\n",
    "        fp = open(path + photo_name[0], 'wb')\n",
    "        fp.write(data.content)\n",
    "        fp.close()"
   ]
  },
  {
   "cell_type": "code",
   "execution_count": null,
   "metadata": {},
   "outputs": [],
   "source": [
    "body > div.l-container.home-page > div.photos > article:nth-child(150) > a.js-photo-link > img"
   ]
  },
  {
   "cell_type": "code",
   "execution_count": null,
   "metadata": {},
   "outputs": [],
   "source": []
  },
  {
   "cell_type": "code",
   "execution_count": null,
   "metadata": {},
   "outputs": [],
   "source": []
  },
  {
   "cell_type": "code",
   "execution_count": null,
   "metadata": {},
   "outputs": [],
   "source": []
  },
  {
   "cell_type": "code",
   "execution_count": null,
   "metadata": {},
   "outputs": [],
   "source": []
  },
  {
   "cell_type": "code",
   "execution_count": null,
   "metadata": {},
   "outputs": [],
   "source": []
  },
  {
   "cell_type": "code",
   "execution_count": null,
   "metadata": {},
   "outputs": [],
   "source": []
  }
 ],
 "metadata": {
  "kernelspec": {
   "display_name": "Python 3",
   "language": "python",
   "name": "python3"
  },
  "language_info": {
   "codemirror_mode": {
    "name": "ipython",
    "version": 3
   },
   "file_extension": ".py",
   "mimetype": "text/x-python",
   "name": "python",
   "nbconvert_exporter": "python",
   "pygments_lexer": "ipython3",
   "version": "3.6.6"
  }
 },
 "nbformat": 4,
 "nbformat_minor": 2
}
