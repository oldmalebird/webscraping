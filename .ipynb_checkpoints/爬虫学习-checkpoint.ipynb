{
 "cells": [
  {
   "cell_type": "markdown",
   "metadata": {},
   "source": [
    "# 识别网站所用技术"
   ]
  },
  {
   "cell_type": "markdown",
   "metadata": {},
   "source": [
    "import builtwith\n",
    "builtwith.parse('http://www.douban.com')"
   ]
  },
  {
   "cell_type": "code",
   "execution_count": 2,
   "metadata": {},
   "outputs": [
    {
     "data": {
      "text/plain": [
       "{'web-servers': ['IIS'], 'operating-systems': ['Windows Server']}"
      ]
     },
     "execution_count": 2,
     "metadata": {},
     "output_type": "execute_result"
    }
   ],
   "source": [
    "builtwith.parse('http://202.127.42.179/scweb/')"
   ]
  },
  {
   "cell_type": "code",
   "execution_count": 3,
   "metadata": {},
   "outputs": [
    {
     "data": {
      "text/plain": [
       "{'web-frameworks': ['Microsoft ASP.NET'],\n",
       " 'web-servers': ['IIS'],\n",
       " 'operating-systems': ['Windows Server']}"
      ]
     },
     "execution_count": 3,
     "metadata": {},
     "output_type": "execute_result"
    }
   ],
   "source": [
    "builtwith.parse('http://202.127.42.179/scweb/Login.aspx')"
   ]
  },
  {
   "cell_type": "code",
   "execution_count": 4,
   "metadata": {},
   "outputs": [
    {
     "data": {
      "text/plain": [
       "{'web-servers': ['IIS'],\n",
       " 'operating-systems': ['Windows Server'],\n",
       " 'web-frameworks': ['Microsoft ASP.NET'],\n",
       " 'javascript-frameworks': ['jQuery']}"
      ]
     },
     "execution_count": 4,
     "metadata": {},
     "output_type": "execute_result"
    }
   ],
   "source": [
    "builtwith.parse('http://www.cva128.org/')"
   ]
  },
  {
   "cell_type": "markdown",
   "metadata": {},
   "source": [
    "# 查看网站所有者"
   ]
  },
  {
   "cell_type": "code",
   "execution_count": 8,
   "metadata": {},
   "outputs": [
    {
     "name": "stdout",
     "output_type": "stream",
     "text": [
      "{\n",
      "  \"domain_name\": null,\n",
      "  \"registrar\": null,\n",
      "  \"whois_server\": null,\n",
      "  \"referral_url\": null,\n",
      "  \"updated_date\": null,\n",
      "  \"creation_date\": null,\n",
      "  \"expiration_date\": null,\n",
      "  \"name_servers\": null,\n",
      "  \"status\": null,\n",
      "  \"emails\": null,\n",
      "  \"dnssec\": null,\n",
      "  \"name\": null,\n",
      "  \"org\": null,\n",
      "  \"address\": null,\n",
      "  \"city\": null,\n",
      "  \"state\": null,\n",
      "  \"zipcode\": null,\n",
      "  \"country\": null\n",
      "}\n"
     ]
    }
   ],
   "source": [
    "import whois\n",
    "who = whois.whois('http://202.127.42.179/scweb/Login.aspx')\n",
    "print(who)"
   ]
  },
  {
   "cell_type": "code",
   "execution_count": 10,
   "metadata": {},
   "outputs": [
    {
     "name": "stdout",
     "output_type": "stream",
     "text": [
      "{\n",
      "  \"domain_name\": \"CVA128.ORG\",\n",
      "  \"registrar\": \"Alibaba Cloud Computing (Beijing) Co., Ltd.\",\n",
      "  \"whois_server\": \"whois.pir.org\",\n",
      "  \"referral_url\": null,\n",
      "  \"updated_date\": \"2016-01-25 21:42:01\",\n",
      "  \"creation_date\": \"2013-08-14 08:53:10\",\n",
      "  \"expiration_date\": \"2019-08-14 08:53:10\",\n",
      "  \"name_servers\": [\n",
      "    \"DNS19.HICHINA.COM\",\n",
      "    \"DNS20.HICHINA.COM\"\n",
      "  ],\n",
      "  \"status\": \"ok https://icann.org/epp#ok\",\n",
      "  \"emails\": \"DomainAbuse@service.aliyun.com\",\n",
      "  \"dnssec\": \"unsigned\",\n",
      "  \"name\": null,\n",
      "  \"org\": \"China Vegetable Association\",\n",
      "  \"address\": null,\n",
      "  \"city\": null,\n",
      "  \"state\": \"bei jing\",\n",
      "  \"zipcode\": null,\n",
      "  \"country\": \"CN\"\n",
      "}\n"
     ]
    }
   ],
   "source": [
    "who = whois.whois('http://www.cva128.org/')\n",
    "print(who)"
   ]
  },
  {
   "cell_type": "code",
   "execution_count": null,
   "metadata": {},
   "outputs": [],
   "source": [
    "下载网页"
   ]
  }
 ],
 "metadata": {
  "kernelspec": {
   "display_name": "Python 3",
   "language": "python",
   "name": "python3"
  },
  "language_info": {
   "codemirror_mode": {
    "name": "ipython",
    "version": 3
   },
   "file_extension": ".py",
   "mimetype": "text/x-python",
   "name": "python",
   "nbconvert_exporter": "python",
   "pygments_lexer": "ipython3",
   "version": "3.6.6"
  }
 },
 "nbformat": 4,
 "nbformat_minor": 2
}
