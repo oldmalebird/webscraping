{
 "cells": [
  {
   "cell_type": "markdown",
   "metadata": {},
   "source": [
    "# 网易云课堂：看文档学爬虫(python3.6)"
   ]
  },
  {
   "cell_type": "markdown",
   "metadata": {},
   "source": [
    "## 10.多进程"
   ]
  },
  {
   "cell_type": "code",
   "execution_count": 1,
   "metadata": {},
   "outputs": [],
   "source": [
    "import re\n",
    "import time\n",
    "import requests\n",
    "from multiprocessing import Pool"
   ]
  },
  {
   "cell_type": "code",
   "execution_count": 2,
   "metadata": {},
   "outputs": [],
   "source": [
    "headers = {'user-Agent': 'Mozilla/5.0 (Windows NT 10.0; Win64; x64) AppleWebKit/537.36 (KHTML, like Gecko) Chrome/68.0.3440.75 Safari/537.36'}"
   ]
  },
  {
   "cell_type": "code",
   "execution_count": null,
   "metadata": {},
   "outputs": [],
   "source": [
    "def re_scraper(url):\n",
    "    res = requests.get(url, headers = headers)\n",
    "    names = re.findall('<h2?(.*?)</h2>', res.text, re.S)\n",
    "    contents = re.findall('<div class=\"content\".*?<span?(.*?)</span>', res.text, re.S) #re.S把整个html看成一个整体，而不是一行一行\n",
    "    laughs = re.findall('<span class=\"stats-vote\">.*?<i class=\"number\">(\\d+)</i>', res.text, re.S)\n",
    "    comments = re.findall('<i class=\"number\">(\\d+)</i> 评论', res.text, re.S)\n",
    "    infos = list()\n",
    "    print(len(names),len(ocntents),len(laughs),len(comments))\n",
    "    for name, content, laugh, comment in zip(names, contents, laughs, comments):\n",
    "        info = {\n",
    "            'name':name,\n",
    "            'content':content,\n",
    "            'laugh':laugh,\n",
    "            'comment':comment\n",
    "        }\n",
    "        infos.append(info)\n",
    "\n",
    "if __name__ == '__main__':\n",
    "    # 列表生成器生成需要遍历的url    \n",
    "    urls = ['https://www.qiushibaike.com/8hr/page/{}/'.format(str(i)) for i in range(1,36)]\n",
    "    start_1 = time.time()\n",
    "    for url in urls:\n",
    "        re_scraper(url)\n",
    "    end_1 = time.time()\n",
    "    print('串行爬虫耗时：',end_1-start_1)\n",
    "    \n",
    "    start_2 = time.time()\n",
    "    pool = Pool(processes=2)\n",
    "    pool.map(re_scraper, urls)\n",
    "    end_2 = time.time()\n",
    "    print('2进程爬虫耗时：',end_2-start_2)\n",
    "    \n",
    "    start_3 = time.time()\n",
    "    pool = Pool(processes=4)\n",
    "    pool.map(re_scraper, urls)\n",
    "    end_3 = time.time()\n",
    "    print('4进程爬虫耗时：',end_3-start_3)"
   ]
  },
  {
   "cell_type": "markdown",
   "metadata": {},
   "source": []
  }
 ],
 "metadata": {
  "kernelspec": {
   "display_name": "Python 3",
   "language": "python",
   "name": "python3"
  },
  "language_info": {
   "codemirror_mode": {
    "name": "ipython",
    "version": 3
   },
   "file_extension": ".py",
   "mimetype": "text/x-python",
   "name": "python",
   "nbconvert_exporter": "python",
   "pygments_lexer": "ipython3",
   "version": "3.6.6"
  }
 },
 "nbformat": 4,
 "nbformat_minor": 2
}
