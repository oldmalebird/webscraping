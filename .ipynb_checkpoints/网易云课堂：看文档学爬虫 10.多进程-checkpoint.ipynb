{
 "cells": [
  {
   "cell_type": "markdown",
   "metadata": {},
   "source": [
    "# 网易云课堂：看文档学爬虫(python3.6)"
   ]
  },
  {
   "cell_type": "markdown",
   "metadata": {},
   "source": [
    "## 10.多进程"
   ]
  },
  {
   "cell_type": "code",
   "execution_count": 1,
   "metadata": {},
   "outputs": [],
   "source": [
    "import re\n",
    "import time\n",
    "import requests\n",
    "from multiprocessing import Pool\n",
    "from multiprocessing import freeze_support"
   ]
  },
  {
   "cell_type": "code",
   "execution_count": 2,
   "metadata": {},
   "outputs": [],
   "source": [
    "headers = {'user-Agent': 'Mozilla/5.0 (Windows NT 10.0; Win64; x64) AppleWebKit/537.36 (KHTML, like Gecko) Chrome/68.0.3440.75 Safari/537.36'}"
   ]
  },
  {
   "cell_type": "code",
   "execution_count": null,
   "metadata": {},
   "outputs": [
    {
     "name": "stdout",
     "output_type": "stream",
     "text": [
      "25 25 25 25\n",
      "25 25 25 25\n",
      "25 25 25 25\n",
      "25 25 25 25\n",
      "25 25 25 25\n",
      "25 25 25 25\n",
      "25 25 25 25\n",
      "25 25 25 25\n",
      "25 25 25 25\n",
      "25 25 25 25\n",
      "25 25 25 25\n",
      "25 25 25 25\n",
      "25 25 25 25\n",
      "25 25 25 25\n",
      "25 25 25 25\n",
      "25 25 25 25\n",
      "25 25 25 25\n",
      "25 25 25 25\n",
      "25 25 25 25\n",
      "25 25 25 25\n",
      "25 25 25 25\n",
      "25 25 25 25\n",
      "25 25 25 25\n",
      "25 25 25 25\n",
      "25 25 25 25\n",
      "25 25 25 25\n",
      "25 25 25 25\n",
      "25 25 25 25\n",
      "25 25 25 25\n",
      "25 25 25 25\n",
      "25 25 25 25\n",
      "25 25 25 25\n",
      "25 25 25 25\n",
      "25 25 25 25\n",
      "25 25 25 25\n",
      "串行爬虫耗时： 10.42930817604065\n",
      "start_2 1539615025.896572\n",
      "aaaaaaaaaaaaaaa\n"
     ]
    }
   ],
   "source": [
    "def re_scraper(url):\n",
    "    res = requests.get(url, headers = headers)\n",
    "    names = re.findall('<h2?(.*?)</h2>', res.text, re.S)\n",
    "    contents = re.findall('<div class=\"content\".*?<span?(.*?)</span>', res.text, re.S) #re.S把整个html看成一个整体，而不是一行一行\n",
    "    laughs = re.findall('<span class=\"stats-vote\">.*?<i class=\"number\">(\\d+)</i>', res.text, re.S)\n",
    "    comments = re.findall('<i class=\"number\">(\\d+)</i> 评论', res.text, re.S)\n",
    "    infos = list()\n",
    "    print(len(names),len(contents),len(laughs),len(comments))\n",
    "    for name, content, laugh, comment in zip(names, contents, laughs, comments):\n",
    "        info = {\n",
    "            'name':name,\n",
    "            'content':content,\n",
    "            'laugh':laugh,\n",
    "            'comment':comment\n",
    "        }\n",
    "        infos.append(info)\n",
    "\n",
    "if __name__ == '__main__':\n",
    "    freeze_support()\n",
    "    # 列表生成器生成需要遍历的url    \n",
    "    urls = ['https://www.qiushibaike.com/8hr/page/{}/'.format(str(i)) for i in range(1,36)]\n",
    "    start_1 = time.time()\n",
    "    for url in urls:\n",
    "        re_scraper(url)\n",
    "    end_1 = time.time()\n",
    "    print('串行爬虫耗时：',end_1-start_1)\n",
    "    \n",
    "    start_2 = time.time()\n",
    "    print('start_2',start_2)\n",
    "    pool = Pool(processes=2)\n",
    "    print('aaaaaaaaaaaaaaa')\n",
    "    pool.map(re_scraper, urls)\n",
    "    print('bbbbbbbbbbbbbbbbbb')\n",
    "    end_2 = time.time()\n",
    "    print('2进程爬虫耗时：',end_2-start_2)\n",
    "    \n",
    "    start_3 = time.time()\n",
    "    pool = Pool(processes=4)\n",
    "    pool.map(re_scraper, urls)\n",
    "    end_3 = time.time()\n",
    "    print('4进程爬虫耗时：',end_3-start_3)"
   ]
  },
  {
   "cell_type": "code",
   "execution_count": null,
   "metadata": {},
   "outputs": [
    {
     "name": "stdout",
     "output_type": "stream",
     "text": [
      "1/\n",
      "2/\n",
      "3/\n",
      "4/\n",
      "5/\n",
      "6/\n",
      "7/\n",
      "8/\n",
      "9/\n",
      "0/\n",
      "1/\n",
      "2/\n",
      "3/\n",
      "4/\n",
      "5/\n",
      "6/\n",
      "7/\n",
      "8/\n",
      "9/\n",
      "0/\n",
      "1/\n",
      "2/\n",
      "3/\n",
      "4/\n",
      "5/\n",
      "6/\n",
      "7/\n",
      "8/\n",
      "9/\n",
      "0/\n",
      "1/\n",
      "2/\n",
      "3/\n",
      "4/\n",
      "5/\n",
      "串行爬虫耗时： 0.0019631385803222656\n",
      "start 1539612040.1438406\n",
      "a\n"
     ]
    }
   ],
   "source": [
    "def test(url):\n",
    "    print(url[-2:])\n",
    "    \n",
    "urls = ['https://www.qiushibaike.com/8hr/page/{}/'.format(str(i)) for i in range(1,36)]\n",
    "start_1 = time.time()\n",
    "for url in urls:\n",
    "    test(url)\n",
    "end_1 = time.time()\n",
    "print('串行爬虫耗时：',end_1-start_1)\n",
    "\n",
    "start_2 = time.time()\n",
    "print('start', start_2)\n",
    "pool = Pool(processes=2)\n",
    "print('a')\n",
    "pool.map(test, urls)\n",
    "print('b')\n",
    "end_2 = time.time()\n",
    "print('end:',end_2)\n",
    "print('2进程爬虫耗时：',end_2-start_2)\n",
    "'''\n",
    "start_3 = time.time()\n",
    "pool = Pool(processes=4)\n",
    "pool.map(test, urls)\n",
    "end_3 = time.time()\n",
    "print('4进程爬虫耗时：',end_3-start_3)'''"
   ]
  },
  {
   "cell_type": "code",
   "execution_count": null,
   "metadata": {},
   "outputs": [],
   "source": []
  }
 ],
 "metadata": {
  "kernelspec": {
   "display_name": "Python 3",
   "language": "python",
   "name": "python3"
  },
  "language_info": {
   "codemirror_mode": {
    "name": "ipython",
    "version": 3
   },
   "file_extension": ".py",
   "mimetype": "text/x-python",
   "name": "python",
   "nbconvert_exporter": "python",
   "pygments_lexer": "ipython3",
   "version": "3.6.6"
  }
 },
 "nbformat": 4,
 "nbformat_minor": 2
}
