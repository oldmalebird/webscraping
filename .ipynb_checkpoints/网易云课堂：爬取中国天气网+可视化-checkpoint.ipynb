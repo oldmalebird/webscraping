{
 "cells": [
  {
   "cell_type": "markdown",
   "metadata": {},
   "source": [
    "### 港澳台页面与其他页面不一致，缺少< /table>\n",
    "lxml解析器无法自动补齐结束的标签，应该使用html5lib"
   ]
  },
  {
   "cell_type": "code",
   "execution_count": 1,
   "metadata": {},
   "outputs": [
    {
     "name": "stderr",
     "output_type": "stream",
     "text": [
      "ERROR:lml.utils:failed to import pyecharts_snapshot\n",
      "Traceback (most recent call last):\n",
      "  File \"C:\\Users\\cva_b\\Anaconda3\\lib\\site-packages\\lml\\utils.py\", line 43, in do_import\n",
      "    plugin_module = __import__(plugin_module_name)\n",
      "ModuleNotFoundError: No module named 'pyecharts_snapshot'\n"
     ]
    }
   ],
   "source": [
    "import requests\n",
    "from bs4 import BeautifulSoup\n",
    "from pyecharts import Bar\n",
    "\n",
    "ALL_DATA = []\n",
    "\n",
    "def parse_page(url):\n",
    "    headers = {\n",
    "        'User-Agent':\n",
    "        'Mozilla/5.0 (Windows NT 10.0; Win64; x64) AppleWebKit/537.36 (KHTML, like Gecko) Chrome/68.0.3440.75 Safari/537.36'\n",
    "    }\n",
    "    response = requests.get(url, headers=headers)\n",
    "    #print(response.text)  #出现乱码，说明猜测错了解码方式\n",
    "    text = response.content.decode('utf-8')\n",
    "    soup = BeautifulSoup(text, 'html5lib')\n",
    "    conMidtab = soup.find('div', class_='conMidtab') #class是python保留字，所以要加下划线，或者引号“class”\n",
    "    tables = conMidtab.find_all('table')\n",
    "    for table in tables:\n",
    "       \n",
    "        trs = table.find_all('tr')[2:]\n",
    "        for index, tr in enumerate(trs):\n",
    "            tds = tr.find_all('td')\n",
    "            city_td = tds[0]\n",
    "            if index ==0:\n",
    "                city_td = tds[1]\n",
    "            city = list(city_td.stripped_strings)[0] #获取所有子孙节点的文本，不加list是个生成器\n",
    "            temp_td = tds[-2]\n",
    "            min_temp = list(temp_td.stripped_strings)[0]\n",
    "            ALL_DATA.append({'city': city, 'min_temp': int(min_temp)})\n",
    "            #print({'city': city, 'min_temp': int(min_temp)})\n",
    "\n",
    "def main():\n",
    "    urls = ['http://www.weather.com.cn/textFC/hb.shtml',\n",
    "            'http://www.weather.com.cn/textFC/db.shtml',\n",
    "            'http://www.weather.com.cn/textFC/hd.shtml',\n",
    "            'http://www.weather.com.cn/textFC/hz.shtml',\n",
    "            'http://www.weather.com.cn/textFC/hn.shtml',\n",
    "            'http://www.weather.com.cn/textFC/xb.shtml',\n",
    "            'http://www.weather.com.cn/textFC/xn.shtml']\n",
    "    for url in urls:\n",
    "        parse_page(url)\n",
    "        \n",
    "    #分析数据\n",
    "    ALL_DATA.sort(key = lambda data:data['min_temp'])\n",
    "    data = ALL_DATA[0:10]\n",
    "    chart_cities = list(map(lambda x:x['city'], data))\n",
    "    chart_temps = list(map(lambda x:x['min_temp'], data))\n",
    "    chart = Bar('中国天气最低气温排行榜')\n",
    "    chart.add('', chart_cities, chart_temps)\n",
    "    chart.render('temperature.html')\n",
    "\n",
    "if __name__ == '__main__':\n",
    "    main()"
   ]
  },
  {
   "cell_type": "code",
   "execution_count": 25,
   "metadata": {},
   "outputs": [
    {
     "name": "stdout",
     "output_type": "stream",
     "text": [
      "[{'city': '阿里', 'min_temp': -9}, {'city': '那曲', 'min_temp': -8}, {'city': '果洛', 'min_temp': -7}, {'city': '海西', 'min_temp': -5}, {'city': '海北', 'min_temp': -5}, {'city': '大同', 'min_temp': -4}, {'city': '乌兰察布', 'min_temp': -4}, {'city': '朔州', 'min_temp': -3}, {'city': '锡林郭勒', 'min_temp': -3}, {'city': '张掖', 'min_temp': -3}, {'city': '酒泉', 'min_temp': -3}, {'city': '甘南', 'min_temp': -3}, {'city': '阿拉尔', 'min_temp': -3}, {'city': '海南', 'min_temp': -3}, {'city': '迪庆', 'min_temp': -3}, {'city': '呼和浩特', 'min_temp': -2}, {'city': '玉树', 'min_temp': -2}, {'city': '石嘴山', 'min_temp': -2}, {'city': '固原', 'min_temp': -2}, {'city': '金昌', 'min_temp': -1}, {'city': '石河子', 'min_temp': -1}, {'city': '承德', 'min_temp': 0}, {'city': '太原', 'min_temp': 0}, {'city': '晋中', 'min_temp': 0}, {'city': '包头', 'min_temp': 0}, {'city': '乌海', 'min_temp': 0}, {'city': '鄂尔多斯', 'min_temp': 0}, {'city': '巴彦淖尔', 'min_temp': 0}, {'city': '呼伦贝尔', 'min_temp': 0}, {'city': '延安', 'min_temp': 0}, {'city': '榆林', 'min_temp': 0}, {'city': '定西', 'min_temp': 0}, {'city': '临夏', 'min_temp': 0}, {'city': '嘉峪关', 'min_temp': 0}, {'city': '巴音郭楞', 'min_temp': 0}, {'city': '伊犁', 'min_temp': 0}, {'city': '哈密', 'min_temp': 0}, {'city': '博尔塔拉', 'min_temp': 0}, {'city': '图木舒克', 'min_temp': 0}, {'city': '铁门关', 'min_temp': 0}, {'city': '西宁', 'min_temp': 0}, {'city': '银川', 'min_temp': 0}, {'city': '吴忠', 'min_temp': 0}, {'city': '中卫', 'min_temp': 0}, {'city': '阿坝', 'min_temp': 0}, {'city': '山南', 'min_temp': 0}, {'city': '延庆', 'min_temp': 1}, {'city': '张家口', 'min_temp': 1}, {'city': '吕梁', 'min_temp': 1}, {'city': '大兴安岭', 'min_temp': 1}, {'city': '武威', 'min_temp': 1}, {'city': '白银', 'min_temp': 1}, {'city': '昌吉', 'min_temp': 1}, {'city': '阿克苏', 'min_temp': 1}, {'city': '喀什', 'min_temp': 1}, {'city': '塔城', 'min_temp': 1}, {'city': '阿勒泰', 'min_temp': 1}, {'city': '北屯', 'min_temp': 1}, {'city': '双河', 'min_temp': 1}, {'city': '黄南', 'min_temp': 1}, {'city': '甘孜', 'min_temp': 1}, {'city': '忻州', 'min_temp': 2}, {'city': '阿拉善盟', 'min_temp': 2}, {'city': '平凉', 'min_temp': 2}, {'city': '乌鲁木齐', 'min_temp': 2}, {'city': '克拉玛依', 'min_temp': 2}, {'city': '克州', 'min_temp': 2}, {'city': '五家渠', 'min_temp': 2}, {'city': '可克达拉', 'min_temp': 2}, {'city': '海东', 'min_temp': 2}, {'city': '日喀则', 'min_temp': 2}, {'city': '昌都', 'min_temp': 2}, {'city': '阳泉', 'min_temp': 3}, {'city': '赤峰', 'min_temp': 3}, {'city': '兴安盟', 'min_temp': 3}, {'city': '白山', 'min_temp': 3}, {'city': '兰州', 'min_temp': 3}, {'city': '和田', 'min_temp': 3}, {'city': '拉萨', 'min_temp': 3}, {'city': '海淀', 'min_temp': 4}, {'city': '怀柔', 'min_temp': 4}, {'city': '通州', 'min_temp': 4}, {'city': '石景山', 'min_temp': 4}, {'city': '大兴', 'min_temp': 4}, {'city': '房山', 'min_temp': 4}, {'city': '密云', 'min_temp': 4}, {'city': '平谷', 'min_temp': 4}, {'city': '西城', 'min_temp': 4}, {'city': '保定', 'min_temp': 4}, {'city': '唐山', 'min_temp': 4}, {'city': '长治', 'min_temp': 4}, {'city': '晋城', 'min_temp': 4}, {'city': '运城', 'min_temp': 4}, {'city': '四平', 'min_temp': 4}, {'city': '白城', 'min_temp': 4}, {'city': '松原', 'min_temp': 4}, {'city': '阜新', 'min_temp': 4}, {'city': '庆阳', 'min_temp': 4}, {'city': '丽江', 'min_temp': 4}, {'city': '北京', 'min_temp': 5}, {'city': '朝阳', 'min_temp': 5}, {'city': '顺义', 'min_temp': 5}, {'city': '昌平', 'min_temp': 5}, {'city': '丰台', 'min_temp': 5}, {'city': '门头沟', 'min_temp': 5}, {'city': '东城', 'min_temp': 5}, {'city': '宝坻', 'min_temp': 5}, {'city': '北辰', 'min_temp': 5}, {'city': '蓟州', 'min_temp': 5}, {'city': '廊坊', 'min_temp': 5}, {'city': '秦皇岛', 'min_temp': 5}, {'city': '雄安新区', 'min_temp': 5}, {'city': '通辽', 'min_temp': 5}, {'city': '齐齐哈尔', 'min_temp': 5}, {'city': '牡丹江', 'min_temp': 5}, {'city': '鹤岗', 'min_temp': 5}, {'city': '延边', 'min_temp': 5}, {'city': '通化', 'min_temp': 5}, {'city': '沈阳', 'min_temp': 5}, {'city': '铁岭', 'min_temp': 5}, {'city': '咸阳', 'min_temp': 5}, {'city': '渭南', 'min_temp': 5}, {'city': '商洛', 'min_temp': 5}, {'city': '天水', 'min_temp': 5}, {'city': '沧州', 'min_temp': 6}, {'city': '临汾', 'min_temp': 6}, {'city': '佳木斯', 'min_temp': 6}, {'city': '黑河', 'min_temp': 6}, {'city': '伊春', 'min_temp': 6}, {'city': '大庆', 'min_temp': 6}, {'city': '鸡西', 'min_temp': 6}, {'city': '吉林', 'min_temp': 6}, {'city': '辽源', 'min_temp': 6}, {'city': '抚顺', 'min_temp': 6}, {'city': '辽阳', 'min_temp': 6}, {'city': '朝阳', 'min_temp': 6}, {'city': '盘锦', 'min_temp': 6}, {'city': '葫芦岛', 'min_temp': 6}, {'city': '铜川', 'min_temp': 6}, {'city': '杨凌', 'min_temp': 6}, {'city': '林芝', 'min_temp': 6}, {'city': '武清', 'min_temp': 7}, {'city': '哈尔滨', 'min_temp': 7}, {'city': '本溪', 'min_temp': 7}, {'city': '锦州', 'min_temp': 7}, {'city': '淄博', 'min_temp': 7}, {'city': '泰安', 'min_temp': 7}, {'city': '滨州', 'min_temp': 7}, {'city': '聊城', 'min_temp': 7}, {'city': '神农架', 'min_temp': 7}, {'city': '三门峡', 'min_temp': 7}, {'city': '西安', 'min_temp': 7}, {'city': '宝鸡', 'min_temp': 7}, {'city': '吐鲁番', 'min_temp': 7}, {'city': '宁河', 'min_temp': 8}, {'city': '静海', 'min_temp': 8}, {'city': '衡水', 'min_temp': 8}, {'city': '邢台', 'min_temp': 8}, {'city': '邯郸', 'min_temp': 8}, {'city': '七台河', 'min_temp': 8}, {'city': '双鸭山', 'min_temp': 8}, {'city': '长春', 'min_temp': 8}, {'city': '鞍山', 'min_temp': 8}, {'city': '营口', 'min_temp': 8}, {'city': '德州', 'min_temp': 8}, {'city': '鹤壁', 'min_temp': 8}, {'city': '濮阳', 'min_temp': 8}, {'city': '济源', 'min_temp': 8}, {'city': '昭通', 'min_temp': 8}, {'city': '东丽', 'min_temp': 9}, {'city': '西青', 'min_temp': 9}, {'city': '津南', 'min_temp': 9}, {'city': '石家庄', 'min_temp': 9}, {'city': '绥化', 'min_temp': 9}, {'city': '丹东', 'min_temp': 9}, {'city': '莱芜', 'min_temp': 9}, {'city': '安阳', 'min_temp': 9}, {'city': '新乡', 'min_temp': 9}, {'city': '许昌', 'min_temp': 9}, {'city': '洛阳', 'min_temp': 9}, {'city': '焦作', 'min_temp': 9}, {'city': '六盘水', 'min_temp': 9}, {'city': '天津', 'min_temp': 10}, {'city': '和平', 'min_temp': 10}, {'city': '滨海新区', 'min_temp': 10}, {'city': '河东', 'min_temp': 10}, {'city': '河西', 'min_temp': 10}, {'city': '南开', 'min_temp': 10}, {'city': '河北', 'min_temp': 10}, {'city': '红桥', 'min_temp': 10}, {'city': '济南', 'min_temp': 10}, {'city': '潍坊', 'min_temp': 10}, {'city': '东营', 'min_temp': 10}, {'city': '十堰', 'min_temp': 10}, {'city': '郑州', 'min_temp': 10}, {'city': '开封', 'min_temp': 10}, {'city': '陇南', 'min_temp': 10}, {'city': '城口', 'min_temp': 10}, {'city': '大理', 'min_temp': 10}, {'city': '蚌埠', 'min_temp': 11}, {'city': '宿州', 'min_temp': 11}, {'city': '淮北', 'min_temp': 11}, {'city': '徐州', 'min_temp': 11}, {'city': '淮安', 'min_temp': 11}, {'city': '临沂', 'min_temp': 11}, {'city': '枣庄', 'min_temp': 11}, {'city': '武汉', 'min_temp': 11}, {'city': '咸宁', 'min_temp': 11}, {'city': '随州', 'min_temp': 11}, {'city': '平顶山', 'min_temp': 11}, {'city': '南阳', 'min_temp': 11}, {'city': '安康', 'min_temp': 11}, {'city': '凉山', 'min_temp': 11}, {'city': '广元', 'min_temp': 11}, {'city': '贵阳', 'min_temp': 11}, {'city': '安顺', 'min_temp': 11}, {'city': '黔南', 'min_temp': 11}, {'city': '毕节', 'min_temp': 11}, {'city': '大连', 'min_temp': 12}, {'city': '阜阳', 'min_temp': 12}, {'city': '亳州', 'min_temp': 12}, {'city': '滁州', 'min_temp': 12}, {'city': '盐城', 'min_temp': 12}, {'city': '连云港', 'min_temp': 12}, {'city': '宿迁', 'min_temp': 12}, {'city': '济宁', 'min_temp': 12}, {'city': '菏泽', 'min_temp': 12}, {'city': '威海', 'min_temp': 12}, {'city': '襄阳', 'min_temp': 12}, {'city': '黄石', 'min_temp': 12}, {'city': '宜昌', 'min_temp': 12}, {'city': '荆门', 'min_temp': 12}, {'city': '仙桃', 'min_temp': 12}, {'city': '信阳', 'min_temp': 12}, {'city': '商丘', 'min_temp': 12}, {'city': '周口', 'min_temp': 12}, {'city': '漯河', 'min_temp': 12}, {'city': '汉中', 'min_temp': 12}, {'city': '巫溪', 'min_temp': 12}, {'city': '酉阳', 'min_temp': 12}, {'city': '秀山', 'min_temp': 12}, {'city': '黔东南', 'min_temp': 12}, {'city': '昆明', 'min_temp': 12}, {'city': '曲靖', 'min_temp': 12}, {'city': '保山', 'min_temp': 12}, {'city': '合肥', 'min_temp': 13}, {'city': '马鞍山', 'min_temp': 13}, {'city': '六安', 'min_temp': 13}, {'city': '南京', 'min_temp': 13}, {'city': '镇江', 'min_temp': 13}, {'city': '扬州', 'min_temp': 13}, {'city': '泰州', 'min_temp': 13}, {'city': '青岛', 'min_temp': 13}, {'city': '烟台', 'min_temp': 13}, {'city': '萍乡', 'min_temp': 13}, {'city': '鄂州', 'min_temp': 13}, {'city': '孝感', 'min_temp': 13}, {'city': '黄冈', 'min_temp': 13}, {'city': '荆州', 'min_temp': 13}, {'city': '恩施', 'min_temp': 13}, {'city': '天门', 'min_temp': 13}, {'city': '潜江', 'min_temp': 13}, {'city': '常德', 'min_temp': 13}, {'city': '益阳', 'min_temp': 13}, {'city': '邵阳', 'min_temp': 13}, {'city': '岳阳', 'min_temp': 13}, {'city': '怀化', 'min_temp': 13}, {'city': '湘西', 'min_temp': 13}, {'city': '驻马店', 'min_temp': 13}, {'city': '成都', 'min_temp': 13}, {'city': '巴中', 'min_temp': 13}, {'city': '雅安', 'min_temp': 13}, {'city': '德阳', 'min_temp': 13}, {'city': '梁平', 'min_temp': 13}, {'city': '遵义', 'min_temp': 13}, {'city': '铜仁', 'min_temp': 13}, {'city': '黔西南', 'min_temp': 13}, {'city': '崇明', 'min_temp': 14}, {'city': '淮南', 'min_temp': 14}, {'city': '安庆', 'min_temp': 14}, {'city': '黄山', 'min_temp': 14}, {'city': '池州', 'min_temp': 14}, {'city': '南通', 'min_temp': 14}, {'city': '日照', 'min_temp': 14}, {'city': '长沙', 'min_temp': 14}, {'city': '湘潭', 'min_temp': 14}, {'city': '株洲', 'min_temp': 14}, {'city': '衡阳', 'min_temp': 14}, {'city': '郴州', 'min_temp': 14}, {'city': '娄底', 'min_temp': 14}, {'city': '张家界', 'min_temp': 14}, {'city': '永州', 'min_temp': 14}, {'city': '桂林', 'min_temp': 14}, {'city': '攀枝花', 'min_temp': 14}, {'city': '绵阳', 'min_temp': 14}, {'city': '南充', 'min_temp': 14}, {'city': '达州', 'min_temp': 14}, {'city': '遂宁', 'min_temp': 14}, {'city': '广安', 'min_temp': 14}, {'city': '泸州', 'min_temp': 14}, {'city': '宜宾', 'min_temp': 14}, {'city': '资阳', 'min_temp': 14}, {'city': '眉山', 'min_temp': 14}, {'city': '南川', 'min_temp': 14}, {'city': '巴南', 'min_temp': 14}, {'city': '黔江', 'min_temp': 14}, {'city': '潼南', 'min_temp': 14}, {'city': '垫江', 'min_temp': 14}, {'city': '石柱', 'min_temp': 14}, {'city': '大足', 'min_temp': 14}, {'city': '玉溪', 'min_temp': 14}, {'city': '楚雄', 'min_temp': 14}, {'city': '临沧', 'min_temp': 14}, {'city': '怒江', 'min_temp': 14}, {'city': '闵行', 'min_temp': 15}, {'city': '宝山', 'min_temp': 15}, {'city': '嘉定', 'min_temp': 15}, {'city': '浦东新区', 'min_temp': 15}, {'city': '金山', 'min_temp': 15}, {'city': '青浦', 'min_temp': 15}, {'city': '松江', 'min_temp': 15}, {'city': '芜湖', 'min_temp': 15}, {'city': '铜陵', 'min_temp': 15}, {'city': '宣城', 'min_temp': 15}, {'city': '无锡', 'min_temp': 15}, {'city': '常州', 'min_temp': 15}, {'city': '嘉兴', 'min_temp': 15}, {'city': '绍兴', 'min_temp': 15}, {'city': '南昌', 'min_temp': 15}, {'city': '九江', 'min_temp': 15}, {'city': '抚州', 'min_temp': 15}, {'city': '宜春', 'min_temp': 15}, {'city': '新余', 'min_temp': 15}, {'city': '鹰潭', 'min_temp': 15}, {'city': '贺州', 'min_temp': 15}, {'city': '自贡', 'min_temp': 15}, {'city': '内江', 'min_temp': 15}, {'city': '乐山', 'min_temp': 15}, {'city': '永川', 'min_temp': 15}, {'city': '合川', 'min_temp': 15}, {'city': '渝北', 'min_temp': 15}, {'city': '万州', 'min_temp': 15}, {'city': '涪陵', 'min_temp': 15}, {'city': '云阳', 'min_temp': 15}, {'city': '巫山', 'min_temp': 15}, {'city': '忠县', 'min_temp': 15}, {'city': '荣昌', 'min_temp': 15}, {'city': '铜梁', 'min_temp': 15}, {'city': '璧山', 'min_temp': 15}, {'city': '武隆', 'min_temp': 15}, {'city': '彭水', 'min_temp': 15}, {'city': '綦江', 'min_temp': 15}, {'city': '上海', 'min_temp': 16}, {'city': '黄浦', 'min_temp': 16}, {'city': '奉贤', 'min_temp': 16}, {'city': '徐汇', 'min_temp': 16}, {'city': '长宁', 'min_temp': 16}, {'city': '静安', 'min_temp': 16}, {'city': '普陀', 'min_temp': 16}, {'city': '虹口', 'min_temp': 16}, {'city': '杨浦', 'min_temp': 16}, {'city': '苏州', 'min_temp': 16}, {'city': '杭州', 'min_temp': 16}, {'city': '湖州', 'min_temp': 16}, {'city': '衢州', 'min_temp': 16}, {'city': '上饶', 'min_temp': 16}, {'city': '景德镇', 'min_temp': 16}, {'city': '柳州', 'min_temp': 16}, {'city': '重庆', 'min_temp': 16}, {'city': '江津', 'min_temp': 16}, {'city': '北碚', 'min_temp': 16}, {'city': '长寿', 'min_temp': 16}, {'city': '渝中', 'min_temp': 16}, {'city': '奉节', 'min_temp': 16}, {'city': '丰都', 'min_temp': 16}, {'city': '大渡口', 'min_temp': 16}, {'city': '江北', 'min_temp': 16}, {'city': '沙坪坝', 'min_temp': 16}, {'city': '九龙坡', 'min_temp': 16}, {'city': '南岸', 'min_temp': 16}, {'city': '开州', 'min_temp': 16}, {'city': '文山', 'min_temp': 16}, {'city': '宁波', 'min_temp': 17}, {'city': '台州', 'min_temp': 17}, {'city': '温州', 'min_temp': 17}, {'city': '丽水', 'min_temp': 17}, {'city': '金华', 'min_temp': 17}, {'city': '舟山', 'min_temp': 17}, {'city': '吉安', 'min_temp': 17}, {'city': '来宾', 'min_temp': 17}, {'city': '德宏', 'min_temp': 17}, {'city': '三明', 'min_temp': 18}, {'city': '南平', 'min_temp': 18}, {'city': '赣州', 'min_temp': 18}, {'city': '南宁', 'min_temp': 18}, {'city': '河池', 'min_temp': 18}, {'city': '韶关', 'min_temp': 18}, {'city': '潮州', 'min_temp': 18}, {'city': '红河', 'min_temp': 18}, {'city': '普洱', 'min_temp': 18}, {'city': '福州', 'min_temp': 19}, {'city': '龙岩', 'min_temp': 19}, {'city': '梧州', 'min_temp': 19}, {'city': '百色', 'min_temp': 19}, {'city': '梅州', 'min_temp': 19}, {'city': '宁德', 'min_temp': 20}, {'city': '莆田', 'min_temp': 20}, {'city': '泉州', 'min_temp': 20}, {'city': '贵港', 'min_temp': 20}, {'city': '玉林', 'min_temp': 20}, {'city': '钦州', 'min_temp': 20}, {'city': '防城港', 'min_temp': 20}, {'city': '惠州', 'min_temp': 20}, {'city': '河源', 'min_temp': 20}, {'city': '云浮', 'min_temp': 20}, {'city': '揭阳', 'min_temp': 20}, {'city': '西双版纳', 'min_temp': 20}, {'city': '厦门', 'min_temp': 21}, {'city': '崇左', 'min_temp': 21}, {'city': '肇庆', 'min_temp': 21}, {'city': '清远', 'min_temp': 21}, {'city': '漳州', 'min_temp': 22}, {'city': '钓鱼岛', 'min_temp': 22}, {'city': '广州', 'min_temp': 22}, {'city': '汕头', 'min_temp': 22}, {'city': '深圳', 'min_temp': 22}, {'city': '珠海', 'min_temp': 22}, {'city': '佛山', 'min_temp': 22}, {'city': '湛江', 'min_temp': 22}, {'city': '江门', 'min_temp': 22}, {'city': '东莞', 'min_temp': 22}, {'city': '中山', 'min_temp': 22}, {'city': '阳江', 'min_temp': 22}, {'city': '茂名', 'min_temp': 22}, {'city': '汕尾', 'min_temp': 22}, {'city': '昌江', 'min_temp': 22}, {'city': '白沙', 'min_temp': 22}, {'city': '琼中', 'min_temp': 22}, {'city': '乐东', 'min_temp': 22}, {'city': '五指山', 'min_temp': 22}, {'city': '北海', 'min_temp': 23}, {'city': '临高', 'min_temp': 23}, {'city': '澄迈', 'min_temp': 23}, {'city': '定安', 'min_temp': 23}, {'city': '保亭', 'min_temp': 23}, {'city': '万宁', 'min_temp': 23}, {'city': '海口', 'min_temp': 24}, {'city': '儋州', 'min_temp': 24}, {'city': '屯昌', 'min_temp': 24}, {'city': '琼海', 'min_temp': 24}, {'city': '文昌', 'min_temp': 24}, {'city': '陵水', 'min_temp': 24}, {'city': '三亚', 'min_temp': 25}, {'city': '东方', 'min_temp': 25}, {'city': '南沙', 'min_temp': 26}, {'city': '西沙', 'min_temp': 27}, {'city': '中沙', 'min_temp': 28}]\n"
     ]
    }
   ],
   "source": [
    "print(ALL_DATA)"
   ]
  },
  {
   "cell_type": "code",
   "execution_count": 26,
   "metadata": {},
   "outputs": [],
   "source": [
    "ALL_DATA.sort(key = lambda data:data['min_temp'])"
   ]
  },
  {
   "cell_type": "code",
   "execution_count": 27,
   "metadata": {},
   "outputs": [
    {
     "name": "stdout",
     "output_type": "stream",
     "text": [
      "[{'city': '阿里', 'min_temp': -9}, {'city': '那曲', 'min_temp': -8}, {'city': '果洛', 'min_temp': -7}, {'city': '海西', 'min_temp': -5}, {'city': '海北', 'min_temp': -5}, {'city': '大同', 'min_temp': -4}, {'city': '乌兰察布', 'min_temp': -4}, {'city': '朔州', 'min_temp': -3}, {'city': '锡林郭勒', 'min_temp': -3}, {'city': '张掖', 'min_temp': -3}, {'city': '酒泉', 'min_temp': -3}, {'city': '甘南', 'min_temp': -3}, {'city': '阿拉尔', 'min_temp': -3}, {'city': '海南', 'min_temp': -3}, {'city': '迪庆', 'min_temp': -3}, {'city': '呼和浩特', 'min_temp': -2}, {'city': '玉树', 'min_temp': -2}, {'city': '石嘴山', 'min_temp': -2}, {'city': '固原', 'min_temp': -2}, {'city': '金昌', 'min_temp': -1}, {'city': '石河子', 'min_temp': -1}, {'city': '承德', 'min_temp': 0}, {'city': '太原', 'min_temp': 0}, {'city': '晋中', 'min_temp': 0}, {'city': '包头', 'min_temp': 0}, {'city': '乌海', 'min_temp': 0}, {'city': '鄂尔多斯', 'min_temp': 0}, {'city': '巴彦淖尔', 'min_temp': 0}, {'city': '呼伦贝尔', 'min_temp': 0}, {'city': '延安', 'min_temp': 0}, {'city': '榆林', 'min_temp': 0}, {'city': '定西', 'min_temp': 0}, {'city': '临夏', 'min_temp': 0}, {'city': '嘉峪关', 'min_temp': 0}, {'city': '巴音郭楞', 'min_temp': 0}, {'city': '伊犁', 'min_temp': 0}, {'city': '哈密', 'min_temp': 0}, {'city': '博尔塔拉', 'min_temp': 0}, {'city': '图木舒克', 'min_temp': 0}, {'city': '铁门关', 'min_temp': 0}, {'city': '西宁', 'min_temp': 0}, {'city': '银川', 'min_temp': 0}, {'city': '吴忠', 'min_temp': 0}, {'city': '中卫', 'min_temp': 0}, {'city': '阿坝', 'min_temp': 0}, {'city': '山南', 'min_temp': 0}, {'city': '延庆', 'min_temp': 1}, {'city': '张家口', 'min_temp': 1}, {'city': '吕梁', 'min_temp': 1}, {'city': '大兴安岭', 'min_temp': 1}, {'city': '武威', 'min_temp': 1}, {'city': '白银', 'min_temp': 1}, {'city': '昌吉', 'min_temp': 1}, {'city': '阿克苏', 'min_temp': 1}, {'city': '喀什', 'min_temp': 1}, {'city': '塔城', 'min_temp': 1}, {'city': '阿勒泰', 'min_temp': 1}, {'city': '北屯', 'min_temp': 1}, {'city': '双河', 'min_temp': 1}, {'city': '黄南', 'min_temp': 1}, {'city': '甘孜', 'min_temp': 1}, {'city': '忻州', 'min_temp': 2}, {'city': '阿拉善盟', 'min_temp': 2}, {'city': '平凉', 'min_temp': 2}, {'city': '乌鲁木齐', 'min_temp': 2}, {'city': '克拉玛依', 'min_temp': 2}, {'city': '克州', 'min_temp': 2}, {'city': '五家渠', 'min_temp': 2}, {'city': '可克达拉', 'min_temp': 2}, {'city': '海东', 'min_temp': 2}, {'city': '日喀则', 'min_temp': 2}, {'city': '昌都', 'min_temp': 2}, {'city': '阳泉', 'min_temp': 3}, {'city': '赤峰', 'min_temp': 3}, {'city': '兴安盟', 'min_temp': 3}, {'city': '白山', 'min_temp': 3}, {'city': '兰州', 'min_temp': 3}, {'city': '和田', 'min_temp': 3}, {'city': '拉萨', 'min_temp': 3}, {'city': '海淀', 'min_temp': 4}, {'city': '怀柔', 'min_temp': 4}, {'city': '通州', 'min_temp': 4}, {'city': '石景山', 'min_temp': 4}, {'city': '大兴', 'min_temp': 4}, {'city': '房山', 'min_temp': 4}, {'city': '密云', 'min_temp': 4}, {'city': '平谷', 'min_temp': 4}, {'city': '西城', 'min_temp': 4}, {'city': '保定', 'min_temp': 4}, {'city': '唐山', 'min_temp': 4}, {'city': '长治', 'min_temp': 4}, {'city': '晋城', 'min_temp': 4}, {'city': '运城', 'min_temp': 4}, {'city': '四平', 'min_temp': 4}, {'city': '白城', 'min_temp': 4}, {'city': '松原', 'min_temp': 4}, {'city': '阜新', 'min_temp': 4}, {'city': '庆阳', 'min_temp': 4}, {'city': '丽江', 'min_temp': 4}, {'city': '北京', 'min_temp': 5}, {'city': '朝阳', 'min_temp': 5}, {'city': '顺义', 'min_temp': 5}, {'city': '昌平', 'min_temp': 5}, {'city': '丰台', 'min_temp': 5}, {'city': '门头沟', 'min_temp': 5}, {'city': '东城', 'min_temp': 5}, {'city': '宝坻', 'min_temp': 5}, {'city': '北辰', 'min_temp': 5}, {'city': '蓟州', 'min_temp': 5}, {'city': '廊坊', 'min_temp': 5}, {'city': '秦皇岛', 'min_temp': 5}, {'city': '雄安新区', 'min_temp': 5}, {'city': '通辽', 'min_temp': 5}, {'city': '齐齐哈尔', 'min_temp': 5}, {'city': '牡丹江', 'min_temp': 5}, {'city': '鹤岗', 'min_temp': 5}, {'city': '延边', 'min_temp': 5}, {'city': '通化', 'min_temp': 5}, {'city': '沈阳', 'min_temp': 5}, {'city': '铁岭', 'min_temp': 5}, {'city': '咸阳', 'min_temp': 5}, {'city': '渭南', 'min_temp': 5}, {'city': '商洛', 'min_temp': 5}, {'city': '天水', 'min_temp': 5}, {'city': '沧州', 'min_temp': 6}, {'city': '临汾', 'min_temp': 6}, {'city': '佳木斯', 'min_temp': 6}, {'city': '黑河', 'min_temp': 6}, {'city': '伊春', 'min_temp': 6}, {'city': '大庆', 'min_temp': 6}, {'city': '鸡西', 'min_temp': 6}, {'city': '吉林', 'min_temp': 6}, {'city': '辽源', 'min_temp': 6}, {'city': '抚顺', 'min_temp': 6}, {'city': '辽阳', 'min_temp': 6}, {'city': '朝阳', 'min_temp': 6}, {'city': '盘锦', 'min_temp': 6}, {'city': '葫芦岛', 'min_temp': 6}, {'city': '铜川', 'min_temp': 6}, {'city': '杨凌', 'min_temp': 6}, {'city': '林芝', 'min_temp': 6}, {'city': '武清', 'min_temp': 7}, {'city': '哈尔滨', 'min_temp': 7}, {'city': '本溪', 'min_temp': 7}, {'city': '锦州', 'min_temp': 7}, {'city': '淄博', 'min_temp': 7}, {'city': '泰安', 'min_temp': 7}, {'city': '滨州', 'min_temp': 7}, {'city': '聊城', 'min_temp': 7}, {'city': '神农架', 'min_temp': 7}, {'city': '三门峡', 'min_temp': 7}, {'city': '西安', 'min_temp': 7}, {'city': '宝鸡', 'min_temp': 7}, {'city': '吐鲁番', 'min_temp': 7}, {'city': '宁河', 'min_temp': 8}, {'city': '静海', 'min_temp': 8}, {'city': '衡水', 'min_temp': 8}, {'city': '邢台', 'min_temp': 8}, {'city': '邯郸', 'min_temp': 8}, {'city': '七台河', 'min_temp': 8}, {'city': '双鸭山', 'min_temp': 8}, {'city': '长春', 'min_temp': 8}, {'city': '鞍山', 'min_temp': 8}, {'city': '营口', 'min_temp': 8}, {'city': '德州', 'min_temp': 8}, {'city': '鹤壁', 'min_temp': 8}, {'city': '濮阳', 'min_temp': 8}, {'city': '济源', 'min_temp': 8}, {'city': '昭通', 'min_temp': 8}, {'city': '东丽', 'min_temp': 9}, {'city': '西青', 'min_temp': 9}, {'city': '津南', 'min_temp': 9}, {'city': '石家庄', 'min_temp': 9}, {'city': '绥化', 'min_temp': 9}, {'city': '丹东', 'min_temp': 9}, {'city': '莱芜', 'min_temp': 9}, {'city': '安阳', 'min_temp': 9}, {'city': '新乡', 'min_temp': 9}, {'city': '许昌', 'min_temp': 9}, {'city': '洛阳', 'min_temp': 9}, {'city': '焦作', 'min_temp': 9}, {'city': '六盘水', 'min_temp': 9}, {'city': '天津', 'min_temp': 10}, {'city': '和平', 'min_temp': 10}, {'city': '滨海新区', 'min_temp': 10}, {'city': '河东', 'min_temp': 10}, {'city': '河西', 'min_temp': 10}, {'city': '南开', 'min_temp': 10}, {'city': '河北', 'min_temp': 10}, {'city': '红桥', 'min_temp': 10}, {'city': '济南', 'min_temp': 10}, {'city': '潍坊', 'min_temp': 10}, {'city': '东营', 'min_temp': 10}, {'city': '十堰', 'min_temp': 10}, {'city': '郑州', 'min_temp': 10}, {'city': '开封', 'min_temp': 10}, {'city': '陇南', 'min_temp': 10}, {'city': '城口', 'min_temp': 10}, {'city': '大理', 'min_temp': 10}, {'city': '蚌埠', 'min_temp': 11}, {'city': '宿州', 'min_temp': 11}, {'city': '淮北', 'min_temp': 11}, {'city': '徐州', 'min_temp': 11}, {'city': '淮安', 'min_temp': 11}, {'city': '临沂', 'min_temp': 11}, {'city': '枣庄', 'min_temp': 11}, {'city': '武汉', 'min_temp': 11}, {'city': '咸宁', 'min_temp': 11}, {'city': '随州', 'min_temp': 11}, {'city': '平顶山', 'min_temp': 11}, {'city': '南阳', 'min_temp': 11}, {'city': '安康', 'min_temp': 11}, {'city': '凉山', 'min_temp': 11}, {'city': '广元', 'min_temp': 11}, {'city': '贵阳', 'min_temp': 11}, {'city': '安顺', 'min_temp': 11}, {'city': '黔南', 'min_temp': 11}, {'city': '毕节', 'min_temp': 11}, {'city': '大连', 'min_temp': 12}, {'city': '阜阳', 'min_temp': 12}, {'city': '亳州', 'min_temp': 12}, {'city': '滁州', 'min_temp': 12}, {'city': '盐城', 'min_temp': 12}, {'city': '连云港', 'min_temp': 12}, {'city': '宿迁', 'min_temp': 12}, {'city': '济宁', 'min_temp': 12}, {'city': '菏泽', 'min_temp': 12}, {'city': '威海', 'min_temp': 12}, {'city': '襄阳', 'min_temp': 12}, {'city': '黄石', 'min_temp': 12}, {'city': '宜昌', 'min_temp': 12}, {'city': '荆门', 'min_temp': 12}, {'city': '仙桃', 'min_temp': 12}, {'city': '信阳', 'min_temp': 12}, {'city': '商丘', 'min_temp': 12}, {'city': '周口', 'min_temp': 12}, {'city': '漯河', 'min_temp': 12}, {'city': '汉中', 'min_temp': 12}, {'city': '巫溪', 'min_temp': 12}, {'city': '酉阳', 'min_temp': 12}, {'city': '秀山', 'min_temp': 12}, {'city': '黔东南', 'min_temp': 12}, {'city': '昆明', 'min_temp': 12}, {'city': '曲靖', 'min_temp': 12}, {'city': '保山', 'min_temp': 12}, {'city': '合肥', 'min_temp': 13}, {'city': '马鞍山', 'min_temp': 13}, {'city': '六安', 'min_temp': 13}, {'city': '南京', 'min_temp': 13}, {'city': '镇江', 'min_temp': 13}, {'city': '扬州', 'min_temp': 13}, {'city': '泰州', 'min_temp': 13}, {'city': '青岛', 'min_temp': 13}, {'city': '烟台', 'min_temp': 13}, {'city': '萍乡', 'min_temp': 13}, {'city': '鄂州', 'min_temp': 13}, {'city': '孝感', 'min_temp': 13}, {'city': '黄冈', 'min_temp': 13}, {'city': '荆州', 'min_temp': 13}, {'city': '恩施', 'min_temp': 13}, {'city': '天门', 'min_temp': 13}, {'city': '潜江', 'min_temp': 13}, {'city': '常德', 'min_temp': 13}, {'city': '益阳', 'min_temp': 13}, {'city': '邵阳', 'min_temp': 13}, {'city': '岳阳', 'min_temp': 13}, {'city': '怀化', 'min_temp': 13}, {'city': '湘西', 'min_temp': 13}, {'city': '驻马店', 'min_temp': 13}, {'city': '成都', 'min_temp': 13}, {'city': '巴中', 'min_temp': 13}, {'city': '雅安', 'min_temp': 13}, {'city': '德阳', 'min_temp': 13}, {'city': '梁平', 'min_temp': 13}, {'city': '遵义', 'min_temp': 13}, {'city': '铜仁', 'min_temp': 13}, {'city': '黔西南', 'min_temp': 13}, {'city': '崇明', 'min_temp': 14}, {'city': '淮南', 'min_temp': 14}, {'city': '安庆', 'min_temp': 14}, {'city': '黄山', 'min_temp': 14}, {'city': '池州', 'min_temp': 14}, {'city': '南通', 'min_temp': 14}, {'city': '日照', 'min_temp': 14}, {'city': '长沙', 'min_temp': 14}, {'city': '湘潭', 'min_temp': 14}, {'city': '株洲', 'min_temp': 14}, {'city': '衡阳', 'min_temp': 14}, {'city': '郴州', 'min_temp': 14}, {'city': '娄底', 'min_temp': 14}, {'city': '张家界', 'min_temp': 14}, {'city': '永州', 'min_temp': 14}, {'city': '桂林', 'min_temp': 14}, {'city': '攀枝花', 'min_temp': 14}, {'city': '绵阳', 'min_temp': 14}, {'city': '南充', 'min_temp': 14}, {'city': '达州', 'min_temp': 14}, {'city': '遂宁', 'min_temp': 14}, {'city': '广安', 'min_temp': 14}, {'city': '泸州', 'min_temp': 14}, {'city': '宜宾', 'min_temp': 14}, {'city': '资阳', 'min_temp': 14}, {'city': '眉山', 'min_temp': 14}, {'city': '南川', 'min_temp': 14}, {'city': '巴南', 'min_temp': 14}, {'city': '黔江', 'min_temp': 14}, {'city': '潼南', 'min_temp': 14}, {'city': '垫江', 'min_temp': 14}, {'city': '石柱', 'min_temp': 14}, {'city': '大足', 'min_temp': 14}, {'city': '玉溪', 'min_temp': 14}, {'city': '楚雄', 'min_temp': 14}, {'city': '临沧', 'min_temp': 14}, {'city': '怒江', 'min_temp': 14}, {'city': '闵行', 'min_temp': 15}, {'city': '宝山', 'min_temp': 15}, {'city': '嘉定', 'min_temp': 15}, {'city': '浦东新区', 'min_temp': 15}, {'city': '金山', 'min_temp': 15}, {'city': '青浦', 'min_temp': 15}, {'city': '松江', 'min_temp': 15}, {'city': '芜湖', 'min_temp': 15}, {'city': '铜陵', 'min_temp': 15}, {'city': '宣城', 'min_temp': 15}, {'city': '无锡', 'min_temp': 15}, {'city': '常州', 'min_temp': 15}, {'city': '嘉兴', 'min_temp': 15}, {'city': '绍兴', 'min_temp': 15}, {'city': '南昌', 'min_temp': 15}, {'city': '九江', 'min_temp': 15}, {'city': '抚州', 'min_temp': 15}, {'city': '宜春', 'min_temp': 15}, {'city': '新余', 'min_temp': 15}, {'city': '鹰潭', 'min_temp': 15}, {'city': '贺州', 'min_temp': 15}, {'city': '自贡', 'min_temp': 15}, {'city': '内江', 'min_temp': 15}, {'city': '乐山', 'min_temp': 15}, {'city': '永川', 'min_temp': 15}, {'city': '合川', 'min_temp': 15}, {'city': '渝北', 'min_temp': 15}, {'city': '万州', 'min_temp': 15}, {'city': '涪陵', 'min_temp': 15}, {'city': '云阳', 'min_temp': 15}, {'city': '巫山', 'min_temp': 15}, {'city': '忠县', 'min_temp': 15}, {'city': '荣昌', 'min_temp': 15}, {'city': '铜梁', 'min_temp': 15}, {'city': '璧山', 'min_temp': 15}, {'city': '武隆', 'min_temp': 15}, {'city': '彭水', 'min_temp': 15}, {'city': '綦江', 'min_temp': 15}, {'city': '上海', 'min_temp': 16}, {'city': '黄浦', 'min_temp': 16}, {'city': '奉贤', 'min_temp': 16}, {'city': '徐汇', 'min_temp': 16}, {'city': '长宁', 'min_temp': 16}, {'city': '静安', 'min_temp': 16}, {'city': '普陀', 'min_temp': 16}, {'city': '虹口', 'min_temp': 16}, {'city': '杨浦', 'min_temp': 16}, {'city': '苏州', 'min_temp': 16}, {'city': '杭州', 'min_temp': 16}, {'city': '湖州', 'min_temp': 16}, {'city': '衢州', 'min_temp': 16}, {'city': '上饶', 'min_temp': 16}, {'city': '景德镇', 'min_temp': 16}, {'city': '柳州', 'min_temp': 16}, {'city': '重庆', 'min_temp': 16}, {'city': '江津', 'min_temp': 16}, {'city': '北碚', 'min_temp': 16}, {'city': '长寿', 'min_temp': 16}, {'city': '渝中', 'min_temp': 16}, {'city': '奉节', 'min_temp': 16}, {'city': '丰都', 'min_temp': 16}, {'city': '大渡口', 'min_temp': 16}, {'city': '江北', 'min_temp': 16}, {'city': '沙坪坝', 'min_temp': 16}, {'city': '九龙坡', 'min_temp': 16}, {'city': '南岸', 'min_temp': 16}, {'city': '开州', 'min_temp': 16}, {'city': '文山', 'min_temp': 16}, {'city': '宁波', 'min_temp': 17}, {'city': '台州', 'min_temp': 17}, {'city': '温州', 'min_temp': 17}, {'city': '丽水', 'min_temp': 17}, {'city': '金华', 'min_temp': 17}, {'city': '舟山', 'min_temp': 17}, {'city': '吉安', 'min_temp': 17}, {'city': '来宾', 'min_temp': 17}, {'city': '德宏', 'min_temp': 17}, {'city': '三明', 'min_temp': 18}, {'city': '南平', 'min_temp': 18}, {'city': '赣州', 'min_temp': 18}, {'city': '南宁', 'min_temp': 18}, {'city': '河池', 'min_temp': 18}, {'city': '韶关', 'min_temp': 18}, {'city': '潮州', 'min_temp': 18}, {'city': '红河', 'min_temp': 18}, {'city': '普洱', 'min_temp': 18}, {'city': '福州', 'min_temp': 19}, {'city': '龙岩', 'min_temp': 19}, {'city': '梧州', 'min_temp': 19}, {'city': '百色', 'min_temp': 19}, {'city': '梅州', 'min_temp': 19}, {'city': '宁德', 'min_temp': 20}, {'city': '莆田', 'min_temp': 20}, {'city': '泉州', 'min_temp': 20}, {'city': '贵港', 'min_temp': 20}, {'city': '玉林', 'min_temp': 20}, {'city': '钦州', 'min_temp': 20}, {'city': '防城港', 'min_temp': 20}, {'city': '惠州', 'min_temp': 20}, {'city': '河源', 'min_temp': 20}, {'city': '云浮', 'min_temp': 20}, {'city': '揭阳', 'min_temp': 20}, {'city': '西双版纳', 'min_temp': 20}, {'city': '厦门', 'min_temp': 21}, {'city': '崇左', 'min_temp': 21}, {'city': '肇庆', 'min_temp': 21}, {'city': '清远', 'min_temp': 21}, {'city': '漳州', 'min_temp': 22}, {'city': '钓鱼岛', 'min_temp': 22}, {'city': '广州', 'min_temp': 22}, {'city': '汕头', 'min_temp': 22}, {'city': '深圳', 'min_temp': 22}, {'city': '珠海', 'min_temp': 22}, {'city': '佛山', 'min_temp': 22}, {'city': '湛江', 'min_temp': 22}, {'city': '江门', 'min_temp': 22}, {'city': '东莞', 'min_temp': 22}, {'city': '中山', 'min_temp': 22}, {'city': '阳江', 'min_temp': 22}, {'city': '茂名', 'min_temp': 22}, {'city': '汕尾', 'min_temp': 22}, {'city': '昌江', 'min_temp': 22}, {'city': '白沙', 'min_temp': 22}, {'city': '琼中', 'min_temp': 22}, {'city': '乐东', 'min_temp': 22}, {'city': '五指山', 'min_temp': 22}, {'city': '北海', 'min_temp': 23}, {'city': '临高', 'min_temp': 23}, {'city': '澄迈', 'min_temp': 23}, {'city': '定安', 'min_temp': 23}, {'city': '保亭', 'min_temp': 23}, {'city': '万宁', 'min_temp': 23}, {'city': '海口', 'min_temp': 24}, {'city': '儋州', 'min_temp': 24}, {'city': '屯昌', 'min_temp': 24}, {'city': '琼海', 'min_temp': 24}, {'city': '文昌', 'min_temp': 24}, {'city': '陵水', 'min_temp': 24}, {'city': '三亚', 'min_temp': 25}, {'city': '东方', 'min_temp': 25}, {'city': '南沙', 'min_temp': 26}, {'city': '西沙', 'min_temp': 27}, {'city': '中沙', 'min_temp': 28}]\n"
     ]
    }
   ],
   "source": [
    "print(ALL_DATA)"
   ]
  },
  {
   "cell_type": "code",
   "execution_count": 29,
   "metadata": {},
   "outputs": [
    {
     "name": "stderr",
     "output_type": "stream",
     "text": [
      "ERROR:lml.utils:failed to import pyecharts_snapshot\n",
      "Traceback (most recent call last):\n",
      "  File \"C:\\Users\\cva_b\\Anaconda3\\lib\\site-packages\\lml\\utils.py\", line 43, in do_import\n",
      "    plugin_module = __import__(plugin_module_name)\n",
      "ModuleNotFoundError: No module named 'pyecharts_snapshot'\n"
     ]
    }
   ],
   "source": [
    "from pyecharts import Bar\n",
    "ALL_DATA.sort(key = lambda data:data['min_temp'])\n",
    "data = ALL_DATA[0:10]\n",
    "chart_cities = list(map(lambda x:x['city'], data))\n",
    "chart_temps = list(map(lambda x:x['min_temp'], data))\n",
    "chart = Bar('中国天气最低气温排行榜')\n",
    "chart.add('', chart_cities, chart_temps)\n",
    "chart.render('temperature.html')"
   ]
  },
  {
   "cell_type": "code",
   "execution_count": null,
   "metadata": {},
   "outputs": [],
   "source": []
  }
 ],
 "metadata": {
  "kernelspec": {
   "display_name": "Python 3",
   "language": "python",
   "name": "python3"
  },
  "language_info": {
   "codemirror_mode": {
    "name": "ipython",
    "version": 3
   },
   "file_extension": ".py",
   "mimetype": "text/x-python",
   "name": "python",
   "nbconvert_exporter": "python",
   "pygments_lexer": "ipython3",
   "version": "3.6.6"
  }
 },
 "nbformat": 4,
 "nbformat_minor": 2
}
