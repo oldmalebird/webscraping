{
 "cells": [
  {
   "cell_type": "code",
   "execution_count": 1,
   "metadata": {},
   "outputs": [],
   "source": [
    "import requests\n",
    "from bs4 import BeautifulSoup\n",
    "import json\n",
    "import time"
   ]
  },
  {
   "cell_type": "code",
   "execution_count": 2,
   "metadata": {},
   "outputs": [
    {
     "data": {
      "text/plain": [
       "{'web-servers': ['Apache']}"
      ]
     },
     "execution_count": 2,
     "metadata": {},
     "output_type": "execute_result"
    }
   ],
   "source": [
    "import builtwith\n",
    "builtwith.parse('http://www.xinfadi.com.cn')"
   ]
  },
  {
   "cell_type": "markdown",
   "metadata": {},
   "source": [
    "爬取整个页面"
   ]
  },
  {
   "cell_type": "code",
   "execution_count": 3,
   "metadata": {
    "scrolled": true
   },
   "outputs": [
    {
     "name": "stdout",
     "output_type": "stream",
     "text": [
      "<!DOCTYPE html PUBLIC \"-//W3C//DTD XHTML 1.0 Transitional//EN\" \"http://www.w3.org/TR/xhtml1/DTD/xhtml1-transitional.dtd\">\r\n",
      "<html xmlns=\"http://www.w3.org/1999/xhtml\">\r\n",
      "<head>\r\n",
      "<meta http-equiv=\"Content-Type\" content=\"text/html; charset=utf-8\" />\r\n",
      "<title> 每日价格行情 - 北京新发地市场</title>\r\n",
      "<link rel=\"stylesheet\" href=\"/common.css\" />\r\n",
      "<link rel=\"stylesheet\" href=\"/content.css?20130710\" />\r\n",
      "<link rel=\"shortcut icon\" href=\"favicon.ico\" />\r\n",
      "</head>\r\n",
      "<script type=\"text/javascript\" src=\"/xin.js\"></script>\r\n",
      "<body>\r\n",
      "<div class=\"index_top\">\r\n",
      "<form method=\"post\" autocomplete=\"off\" id=\"lsform\" name=\"lsform\" action=\"/login.shtml\">\r\n",
      "<input type=\"hidden\" name=\"cookietime\" id=\"ls_cookietime\" class=\"pc\" value=\"0\" tabindex=\"903\" />\r\n",
      "<input type=\"hidden\" name=\"quickforward\" value=\"yes\" />\r\n",
      "<input type=\"hidden\" name=\"handlekey\" value=\"ls\" />\r\n",
      "\t<table class=\"index_top_con margin_auto\">\r\n",
      "    \t<tr>\r\n",
      "        \t<td width=\"72px;\">USER<br /> LOGIN</td>\r\n",
      "            <td width=\"260px\">用户名：<input type=\"text\" name=\"username\" id=\"username\" value=\"\" /></td>\r\n",
      "           \r\n",
      "            <td width=\"240px\">密码：<input type=\"password\" name=\"userpass\" id=\"userpass\" value=\"\" onkeypress=\"keyEnter('lsform');\"/></td>\r\n",
      "        \t<td class=\"login\"><a href=\"#\" class=\"deng\" onclick=\"document.lsform.submit();\">登 录</a></td>\r\n",
      "            <td width=\"105px\"><a href=\"/hy_register.shtml\">新用户注册</a></td>\r\n",
      "            <td width=\"296px\"><a href=\"/forgotpw.shtml\">忘记密码？</a></td>\r\n",
      "            <td width=\"100px\"><a href=\"#\" onclick=\"SetHomepage('http://i.tianqi.com/'); return false;\">设为首页</a></td>\r\n",
      "            <td width=\"93px;\"><a href=\"#\" onclick=\"addBookmark('http://i.tianqi.com/','北京新发地市场'); return false;\">加入收藏</a></td>\r\n",
      "        </tr>\r\n",
      "    </table>\r\n",
      "</form>\r\n",
      "</div>\r\n",
      "<!--以上是顶部内容-->\r\n",
      "\r\n",
      "<div class=\"index_all margin_auto\">\r\n",
      "    <div class=\"index_banner margin_auto\">\r\n",
      "<div class=\"logo\" style=\"margin-right:1px;\"><a href=\"http://www.xinfadi.com.cn\"><img src=\"/files/indexpics/pics/201307/16/1373970416101.gif\" width=\"294\" height=\"77\" /></a></div>\t\r\n",
      "<div class=\"logo\" style=\"margin-left:4px;\"><a href=\"#\" target=\"_blank\"><img src=\"/files/indexpics/pics/201501/02/1420163685101.jpg\" width=\"345\" height=\"92\" style=\"margin-left:1px;\" /></a></div><div class=\"logo\" style=\"margin-left:4px;\"><a href=\"http://xinfadi.jd.com/\" target=\"_blank\"><img src=\"/files/indexpics/pics/201311/18/138475865410001.jpg\" width=\"345\" height=\"92\" style=\"margin-left:1px;\" /></a></div>\t\r\n",
      "      <div class=\"clear\"></div>\r\n",
      "    </div>\r\n",
      "<!--logo内容-->\r\n",
      "\r\n",
      "<div class=\"box1\">\r\n",
      "\t<div class=\"time\">\r\n",
      "    \t<ul>\r\n",
      "        \t<li>2018年10月23日</li>\r\n",
      "            <li>农历九月十五&nbsp;&nbsp;&nbsp;星期二</li>\r\n",
      "            <li><iframe  src=\"http://i.tianqi.com/index.php?c=code&id=1&icon=1&wind=0&num=1\" width=\"138\" height=\"25\" marginwidth=\"0\" marginheight=\"0\" hspace=\"0\" vspace=\"0\" frameborder=\"0\" scrolling=\"no\"></iframe></li>\r\n",
      "        <div class=\"clear\"></div>\r\n",
      "        </ul>\r\n",
      "    </div>\r\n",
      "    \r\n",
      "\t<div class=\"search\">\r\n",
      "\t\t<form  autocomplete=\"off\" name=\"searchform\" id=\"searchform\" method=\"get\" action=\"/search.shtml\">\r\n",
      "\t\t\t<input class=\"kuang\" style=\"line-height:22px;\" onfocus=\"cleartext(this);\" onblur=\"cleartext(this)\" type=\"text\" name=\"searchalltxt\" id=\"searchalltxt\" value=\"请输入您要搜索的内容\" onkeypress=\"keyenter('searchform');\"/>\r\n",
      "\t\t\t<select class=\"selecttype\" name=\"selectTypeid\" id=\"selectTypeid\">\r\n",
      "\t\t\t\t<option value=\"51\" >商户信息</option>\r\n",
      "\t\t\t\t<option value=\"96\" >基地信息</option>\r\n",
      "\t\t\t\t<option value=\"2121\" >供应信息</option>\r\n",
      "\t\t\t\t<option value=\"2122\" >求购信息</option>\t\t\t\t\r\n",
      "\t\t\t</select>\r\n",
      "\t\t\t<a href=\"javascript:;\" class=\"sou\" onclick=\"search_index();\" ></a>\r\n",
      "\t\t\t<div class=\"clear\"></div>\r\n",
      "\t\t</form>\t\r\n",
      "    </div>\r\n",
      "<div class=\"clear\"></div>\r\n",
      "</div>\r\n",
      "<!--box1内容-->\r\n",
      "\r\n",
      "<div class=\"nav\">\r\n",
      "\t<div class=\"nav_1\">\r\n",
      "    \t<ul>\r\n",
      "        \t<li class=\"biao\"><a href=\"/company/reports.shtml\" target=\"_blank\">走进市场:</a></li>\r\n",
      "            <li><a href=\"/company/cintros.shtml\" target=\"_blank\">简介 </a> <span class=\"shu\">|&nbsp;</span></li>\r\n",
      "            <li><a href=\"/company/leaders.shtml\" target=\"_blank\">领导 </a> <span class=\"shu\">|&nbsp;</span></li>\r\n",
      "            <li><a href=\"/company/projects.shtml\" target=\"_blank\">项目 </a> <span class=\"shu\">|&nbsp;</span></li>\r\n",
      "            <li><a href=\"/news/companynews/list.shtml\" target=\"_blank\">要闻  </a></li>\r\n",
      "        \r\n",
      "        <div class=\"clear\"></div>\r\n",
      "        </ul>\r\n",
      "        \r\n",
      "    <ul>\r\n",
      "        \t<li class=\"biao\">市场商户:</li>\r\n",
      "            <li><a href=\"/saler/list/900/1.shtml\" target=\"_blank\">专营 </a> <span class=\"shu\">|&nbsp;</span></li>\r\n",
      "            <li><a href=\"/saler/list/10148/1.shtml\" target=\"_blank\">配送 </a> <span class=\"shu\">|&nbsp;</span></li>\r\n",
      "            <li><a href=\"/saler/list/10149/1.shtml\" target=\"_blank\">礼品 </a> <span class=\"shu\">|&nbsp;</span></li>\r\n",
      "            <li><a href=\"/newbases/base/index.shtml\" target=\"_blank\">基地  </a></li>\r\n",
      "        \r\n",
      "        <div class=\"clear\"></div>\r\n",
      "        </ul>\r\n",
      "    </div>\r\n",
      "\r\n",
      "\r\n",
      "<div class=\" nav_1\">\r\n",
      "    \t<ul>\r\n",
      "        \t<li class=\"biao\">行情信息:</li>\r\n",
      "            <li><a href=\"/marketanalysis/0/list/1.shtml\" target=\"_blank\">价格 </a> <span class=\"shu\">|&nbsp;</span></li>\r\n",
      "            <li><a href=\"/business/supplyinfos.shtml\" target=\"_blank\">供求 </a> <span class=\"shu\">|&nbsp;</span></li>\r\n",
      "            <li><a href=\"/news/marketanalysis/list.shtml\" target=\"_blank\">分析  </a> <span class=\"shu\">|&nbsp;</span></li>\r\n",
      "            <li><a href=\"/static/jiaoyizhongxin.php\" target=\"_blank\">交易 </a></li>\r\n",
      "        \r\n",
      "        <div class=\"clear\"></div>\r\n",
      "        </ul>\r\n",
      "        \r\n",
      "    <ul>\r\n",
      "        \t<li class=\"biao\">行业动态:</li>\r\n",
      "            <li><a href=\"/news/policylaws/list.shtml\" target=\"_blank\">政策  </a> <span class=\"shu\">|&nbsp;</span></li>\r\n",
      "            <li><a href=\"/news/policylaws/list.shtml\" target=\"_blank\">法规  </a> <span class=\"shu\">|&nbsp;</span></li>\r\n",
      "            <li><a href=\"/news/foodsafety/list.shtml\" target=\"_blank\">安全  </a> <span class=\"shu\">|&nbsp;</span></li>\r\n",
      "            <li><a href=\"#\">会议  </a></li>\r\n",
      "        \r\n",
      "        <div class=\"clear\"></div>\r\n",
      "        </ul>\r\n",
      "    </div>\r\n",
      "    \r\n",
      "    <div class=\"nav_1\">\r\n",
      "    \t<ul>\r\n",
      "        \t<li class=\"biao\">市场服务:</li>\r\n",
      "            <li><a href=\"/markets/adviseprom/index.shtml\" target=\"_blank\">广告  </a> <span class=\"shu\">|&nbsp;</span></li>\r\n",
      "            <li><a href=\"/markets/vacantdisp/index.shtml\" target=\"_blank\">空配  </a> <span class=\"shu\">|&nbsp;</span></li>\r\n",
      "            <li><a href=\"/markets/financeserv/index.shtml\" target=\"_blank\">金融  </a> <span class=\"shu\">|&nbsp;</span></li>\r\n",
      "            <li><a href=\"/markets/exhibitserv/index.shtml\" target=\"_blank\">会展  </a></li>\r\n",
      "        \r\n",
      "        <div class=\"clear\"></div>\r\n",
      "        </ul>\r\n",
      "        \r\n",
      "    <ul>\r\n",
      "        \t<li class=\"biao\">产销对接:</li>\r\n",
      "            <li><a href=\"#\">农批  </a> <span class=\"shu\">|&nbsp;</span></li>\r\n",
      "            <li><a href=\"/markets/connschool/index.shtml\" target=\"_blank\">农校  </a> <span class=\"shu\">|&nbsp;</span></li>\r\n",
      "            <li><a href=\"/markets/connrest/index.shtml\" target=\"_blank\">农餐  </a> <span class=\"shu\">|&nbsp;</span></li>\r\n",
      "            <li><a href=\"/markets/connsuperm/index.shtml\" target=\"_blank\">农超  </a></li>\r\n",
      "        \r\n",
      "        <div class=\"clear\"></div>\r\n",
      "        </ul>\r\n",
      "    </div>\r\n",
      "\r\n",
      "\r\n",
      "<div class=\" nav_2 nav_1\">\r\n",
      "    \t<ul>\r\n",
      "        \t<li class=\"biao\">生活服务:</li>\r\n",
      "            <li><a href=\"/company/services/cmeals.shtml\" target=\"_blank\">餐饮  </a> <span class=\"shu\">|&nbsp;</span></li>\r\n",
      "            <li><a href=\"/company/services/chotels.shtml\" target=\"_blank\">住宿  </a> <span class=\"shu\">|&nbsp;</span></li>\r\n",
      "            <li><a href=\"#\">网批  </a> <span class=\"shu\">|&nbsp;</span></li>\r\n",
      "            <li><a href=\"#\">订票  </a></li>\r\n",
      "        \r\n",
      "        <div class=\"clear\"></div>\r\n",
      "        </ul>\r\n",
      "        \r\n",
      "    <ul>\r\n",
      "        \t<li class=\"biao\">市场风采:</li>\r\n",
      "            <li><a href=\"#\">活动  </a> <span class=\"shu\">|&nbsp;</span></li>\r\n",
      "            <li><a href=\"#\">论坛  </a> <span class=\"shu\">|&nbsp;</span></li>\r\n",
      "            <li><a href=\"/photos/view/39.shtml\" target=\"_blank\">摄影  </a> <span class=\"shu\">|&nbsp;</span></li>\r\n",
      "            <li><a href=\"/collects/impressstory/list.shtml\" target=\"_blank\">美文  </a></li>\r\n",
      "        \r\n",
      "        <div class=\"clear\"></div>\r\n",
      "        </ul>\r\n",
      "    </div>\r\n",
      "</div>\r\n",
      "\r\n",
      "<!--以上是nav部分内容-->\r\n",
      "<div class=\"hangqing\">\r\n",
      "\t<div class=\"hangq_left\">\r\n",
      "\t\t<!--<img src=\"/files/banner/guanggao1.jpg\" width=\"750\" height=\"100\" style=\"margin-bottom:15px;\"/>-->\r\n",
      "    \t<div class=\"hq_left_1\">\r\n",
      "\t\t\t<ul>\r\n",
      "            \t<li class=\"firsts\"><a href=\"/marketanalysis/0/list/1.shtml\">每日价格行情</a></li>\r\n",
      "                <li><a href=\"/marketanalysis/1/list/1.shtml\" style=\"background:#FFF;color:#000;width:90px;height:25px;\">蔬菜</a></li>\r\n",
      "                <li><a href=\"/marketanalysis/2/list/1.shtml\" >水果</a></li>\r\n",
      "                <li><a href=\"/marketanalysis/3/list/1.shtml\" >肉禽蛋</a></li>\r\n",
      "                <li><a href=\"/marketanalysis/4/list/1.shtml\" >水产</a></li>\r\n",
      "                <li><a href=\"/marketanalysis/5/list/1.shtml\" >粮油</a></li>\r\n",
      "            <div class=\"clear\"></div>\r\n",
      "            </ul>\t\r\n",
      "        </div>\r\n",
      "    \r\n",
      "    <table class=\"hq_table\">\r\n",
      "    \t<tr class=\"tr_1\">\r\n",
      "        \t<td width=\"90\" class=\"td_1\">品名</td>\r\n",
      "            <td width=\"90\">最低价</td>\r\n",
      "            <td width=\"90\">平均价</td>\r\n",
      "            <td width=\"90\">最高价</td>\r\n",
      "            <td width=\"90\">规格</td>\r\n",
      "            <td width=\"80\">单位</td>\r\n",
      "            <td width=\"90\">发布日期</td>\r\n",
      "            <td width=\"10\">&nbsp;</td>\r\n",
      "        </tr>\r\n",
      "<tr class=\"tr_color\"><td style=\"text-align:left;padding-left:5px;\">油麦菜</td><td>0.80</td><td>1.15</td><td>1.50</td><td>普通</td><td>斤</td><td>2018-10-22</td><td></td></tr><tr><td style=\"text-align:left;padding-left:5px;\">玉米</td><td>0.80</td><td>1.10</td><td>1.40</td><td>普通</td><td>斤</td><td>2018-10-22</td><td></td></tr><tr class=\"tr_color\"><td style=\"text-align:left;padding-left:5px;\">牛蒡</td><td>1.60</td><td>1.95</td><td>2.30</td><td>普通</td><td>斤</td><td>2018-10-22</td><td></td></tr><tr><td style=\"text-align:left;padding-left:5px;\">小葱</td><td>1.80</td><td>1.90</td><td>2.00</td><td>普通</td><td>斤</td><td>2018-10-22</td><td></td></tr><tr class=\"tr_color\"><td style=\"text-align:left;padding-left:5px;\">佛手瓜</td><td>1.30</td><td>1.35</td><td>1.40</td><td>普通</td><td>斤</td><td>2018-10-22</td><td></td></tr><tr><td style=\"text-align:left;padding-left:5px;\">西芹</td><td>2.60</td><td>2.70</td><td>2.80</td><td>普通</td><td>斤</td><td>2018-10-22</td><td></td></tr><tr class=\"tr_color\"><td style=\"text-align:left;padding-left:5px;\">小米椒</td><td>3.00</td><td>4.00</td><td>5.00</td><td>普通</td><td>斤</td><td>2018-10-22</td><td></td></tr><tr><td style=\"text-align:left;padding-left:5px;\">美人椒</td><td>2.50</td><td>3.25</td><td>4.00</td><td>普通</td><td>斤</td><td>2018-10-22</td><td></td></tr><tr class=\"tr_color\"><td style=\"text-align:left;padding-left:5px;\">彩椒</td><td>6.00</td><td>10.50</td><td>15.00</td><td>普通</td><td>斤</td><td>2018-10-22</td><td></td></tr><tr><td style=\"text-align:left;padding-left:5px;\">瓠子</td><td>0.60</td><td>1.30</td><td>2.00</td><td>普通</td><td>斤</td><td>2018-10-22</td><td></td></tr><tr class=\"tr_color\"><td style=\"text-align:left;padding-left:5px;\">茭白</td><td>1.00</td><td>1.40</td><td>1.80</td><td>普通</td><td>斤</td><td>2018-10-22</td><td></td></tr><tr><td style=\"text-align:left;padding-left:5px;\">甘露</td><td>3.70</td><td>3.75</td><td>3.80</td><td>普通</td><td>斤</td><td>2018-10-22</td><td></td></tr><tr class=\"tr_color\"><td style=\"text-align:left;padding-left:5px;\">鬼子姜</td><td>1.00</td><td>1.10</td><td>1.20</td><td>普通</td><td>斤</td><td>2018-10-22</td><td></td></tr><tr><td style=\"text-align:left;padding-left:5px;\">雪里红</td><td>0.30</td><td>0.38</td><td>0.45</td><td>普通</td><td>斤</td><td>2018-10-22</td><td></td></tr><tr class=\"tr_color\"><td style=\"text-align:left;padding-left:5px;\">芥菜头</td><td>0.30</td><td>0.38</td><td>0.45</td><td>普通</td><td>斤</td><td>2018-10-22</td><td></td></tr><tr><td style=\"text-align:left;padding-left:5px;\">紫菜苔</td><td>2.20</td><td>2.55</td><td>2.90</td><td>普通</td><td>斤</td><td>2018-10-22</td><td></td></tr><tr class=\"tr_color\"><td style=\"text-align:left;padding-left:5px;\">大白菜</td><td>0.35</td><td>0.43</td><td>0.50</td><td>普通</td><td>斤</td><td>2018-10-22</td><td></td></tr><tr><td style=\"text-align:left;padding-left:5px;\">娃娃菜</td><td>0.80</td><td>0.85</td><td>0.90</td><td>普通</td><td>斤</td><td>2018-10-22</td><td></td></tr><tr class=\"tr_color\"><td style=\"text-align:left;padding-left:5px;\">芹菜</td><td>0.70</td><td>0.75</td><td>0.80</td><td>普通</td><td>斤</td><td>2018-10-22</td><td></td></tr><tr><td style=\"text-align:left;padding-left:5px;\">菠菜</td><td>0.80</td><td>0.90</td><td>1.00</td><td>普通</td><td>斤</td><td>2018-10-22</td><td></td></tr>\t\t\r\n",
      "    </table>\r\n",
      "\t<div style=\"text-align:right;padding:10px 0px 0px 10px;color:red;font-size:12px;\">温馨提示：本网站公布价格仅供参考，如您对本市场公布价格有异议请联系线上客服，QQ：8035129。</div>\r\n",
      "<br/><em>共有 <em style=\"color:red;font-weight:bold;\">77918</em> 条</em><br/><br/><div class=\"manu\"><span class=\"disabled\"> 首页 </span>&nbsp;<span class=\"disabled\"> 上一页 </span>&nbsp;<span class=\"current\">1</span>&nbsp;<a href=\"/marketanalysis/1/list/2.shtml\">2</a>&nbsp;<a href=\"/marketanalysis/1/list/3.shtml\">3</a>&nbsp;<a href=\"/marketanalysis/1/list/4.shtml\">4</a>&nbsp;<a href=\"/marketanalysis/1/list/5.shtml\">5</a>&nbsp;<a href=\"/marketanalysis/1/list/6.shtml\">6</a>&nbsp;...<a href=\"/marketanalysis/1/list/2.shtml\" title=\"下一页\"> 下一页 </a>&nbsp;<a href=\"/marketanalysis/1/list/3896.shtml\" title=\"尾页\"> 尾页 </a></div>\t\r\n",
      "    </div><!--hangq_left-->\r\n",
      "<div class=\"hangq_right\">\r\n",
      "\t<div class=\"hangq_right_1\">\r\n",
      "    \t<h3 class=\"lan_1\"><a href=\"#\">价格搜索</a></h3>\r\n",
      "\t\t<form method=\"get\" name=\"formprice\" action=\"/marketanalysis/1/list/1.shtml\">\r\n",
      "    \t<ul>\r\n",
      "        \t<li>品&nbsp;&nbsp;&nbsp;&nbsp;名：<input type=\"text\" name=\"prodname\"  size=\"15\" value=\"\"/></li>\r\n",
      "            <li>起止日期：<input type=\"text\" name=\"begintime\" readonly  id=\"begintime\" onclick=\"new Calendar(2000, 2036).show(this);\"  maxlength=\"10\" size=\"15\" value=\"\">\t\r\n",
      "\t\t\t</li>\r\n",
      "\t\t\t<li>截止日期：<input type=\"text\" name=\"endtime\" readonly  id=\"endtime\" onclick=\"new Calendar(2000, 2036).show(this);\"  maxlength=\"10\" size=\"15\"  value=\"\">\t\r\n",
      "\t\t\t</li>\r\n",
      "        \t<li class=\"sousuo\"><a href=\"javascript:return false;\" onclick=\"document.formprice.submit();\">搜索</a></li>\r\n",
      "        </ul>\r\n",
      "\t\t</form>\r\n",
      "    </div>\r\n",
      "\t<!--<div style=\"margin-top:5px;width:210px;height:126px;overflow:hidden;\">\r\n",
      "\t\t<a href=\"/news/companynews/view/223873.shtml\" target=\"_blank\"><img width=\"210\" src=\"/images/zyps.jpg\" /></a>\r\n",
      "\t</div>-->\t\r\n",
      "<script src=\"/ijs/calendar.js\" type=\"text/javascript\"></script>\t\r\n",
      "    <div class=\"hangq_right_3\" style=\"margin-top:5px;\">\r\n",
      "    \t<h3 class=\"lan_1\"><a href=\"#\">新发地市场行情分析</a></h3>\r\n",
      "        <div class=\"sc_tu\">\r\n",
      "    \t<ul>\r\n",
      "<li style=\"overflow:hidden\"><a href=\"/news/marketanalysis/view/1477676.shtml\" target=\"_blank\"><span class=\"six\"></span>每周市场动态（2018.10.13-2018.10.19）</a></li><li style=\"overflow:hidden\"><a href=\"/news/marketanalysis/view/1477659.shtml\" target=\"_blank\"><span class=\"six\"></span>每周市场动态（2018.10.6-2018.10.12）</a></li><li style=\"overflow:hidden\"><a href=\"/news/marketanalysis/view/1477639.shtml\" target=\"_blank\"><span class=\"six\"></span>每周市场动态（2018.9.29-2018.10.5）</a></li><li style=\"overflow:hidden\"><a href=\"/news/marketanalysis/view/1477638.shtml\" target=\"_blank\"><span class=\"six\"></span>2018年9月份猪肉价格走势分析</a></li><li style=\"overflow:hidden\"><a href=\"/news/marketanalysis/view/1477637.shtml\" target=\"_blank\"><span class=\"six\"></span>2018年9月份鸡蛋价格走势分析</a></li><li style=\"overflow:hidden\"><a href=\"/news/marketanalysis/view/1477611.shtml\" target=\"_blank\"><span class=\"six\"></span>每周市场动态（2018.9.22-2018.9.28）</a></li><li style=\"overflow:hidden\"><a href=\"/news/marketanalysis/view/1477599.shtml\" target=\"_blank\"><span class=\"six\"></span>每周市场动态（2018.9.15-2018.9.21）</a></li><li style=\"overflow:hidden\"><a href=\"/news/marketanalysis/view/1477585.shtml\" target=\"_blank\"><span class=\"six\"></span>每周市场动态（2018.9.8-2018.9.14）</a></li><li style=\"overflow:hidden\"><a href=\"/news/marketanalysis/view/1477561.shtml\" target=\"_blank\"><span class=\"six\"></span>每周市场动态（2018.9.1-2018.9.7）</a></li><li style=\"overflow:hidden\"><a href=\"/news/marketanalysis/view/1477552.shtml\" target=\"_blank\"><span class=\"six\"></span>2018年8月份猪肉价格走势分析</a></li>        </ul>\r\n",
      "    </div>\r\n",
      "    </div><!--hangq_right_3-->\r\n",
      "\t<div style=\"margin-top:5px;width:210px;height:126px;overflow:hidden;\">\r\n",
      "\t\t<a href=\"http://jgsb.agri.gov.cn/controller?SERVICE_ID=REGISTRY_JCSJ_MRHQ_SHOW_SERVICE&recordperpage=15&newsearch=true&login_result_sign=nologin\" target=\"_blank\" title=\"全国农产品批发价格行情\"><img width=\"210\" src=\"/images/jghq.jpg\" /></a>\t\r\n",
      "\t</div>\r\n",
      "</div>\r\n",
      "<div class=\"clear\"></div>\r\n",
      "</div><!--hangqing-->\r\n",
      "</div></div>\r\n",
      "<div class=\"foot\">\r\n",
      "\t<p class=\"beian\"><span style=\"font-family:arial;\">Copyright &copy;2010-2013 www.xinfadi.com.cn </span>All Rights Reserved<br />xfdxxhgl@163.com  北京新发地农产品股份有限公司 新发地农产品交易网 版权所有<br />\r\n",
      " 京ICP备案06000290号 北京市丰台区新发地东一门北侧办公楼&nbsp;&nbsp;<script src=\"http://s23.cnzz.com/stat.php?id=5463821&web_id=5463821&show=pic\" language=\"JavaScript\"></script></p>\r\n",
      "</div><!--foot-->\r\n",
      "\r\n",
      "</body>\r\n",
      "</html>\r\n",
      "\n"
     ]
    }
   ],
   "source": [
    "def main():\n",
    "    headers = {\n",
    "    'User-Agent': 'Mozilla/5.0 (Windows NT 10.0; Win64; x64) AppleWebKit/537.36 (KHTML, like Gecko) Chrome/68.0.3440.75 Safari/537.36',\n",
    "    'Host': 'i.tianqi.com',\n",
    "    'Connection': 'keep-alive',\n",
    "    'Referer': 'http://www.xinfadi.com.cn/marketanalysis/1/list/1.sh:tml',\n",
    "    'Cookie':'ipPy=beijing; Hm_lvt_86f43783acc56b0c8abb5bb039edc763=1537836413,1537836456,1537836496; Hm_lpvt_86f43783acc56b0c8abb5bb039edc763=1537836496'\n",
    "    }\n",
    "    url = 'http://www.xinfadi.com.cn/marketanalysis/1/list/1.shtml'\n",
    "    result = requests.get(url, headers = headers)\n",
    "    print(result.text)\n",
    "\n",
    "if __name__ == '__main__':\n",
    "    main()"
   ]
  },
  {
   "cell_type": "markdown",
   "metadata": {},
   "source": [
    "爬取表格部分"
   ]
  },
  {
   "cell_type": "code",
   "execution_count": 31,
   "metadata": {
    "scrolled": true
   },
   "outputs": [
    {
     "name": "stdout",
     "output_type": "stream",
     "text": [
      "<table class=\"hq_table\">\n",
      "<tr class=\"tr_1\">\n",
      "<td class=\"td_1\" width=\"90\">品名</td>\n",
      "<td width=\"90\">最低价</td>\n",
      "<td width=\"90\">平均价</td>\n",
      "<td width=\"90\">最高价</td>\n",
      "<td width=\"90\">规格</td>\n",
      "<td width=\"80\">单位</td>\n",
      "<td width=\"90\">发布日期</td>\n",
      "<td width=\"10\"> </td>\n",
      "</tr>\n",
      "<tr class=\"tr_color\"><td style=\"text-align:left;padding-left:5px;\">大白菜</td><td>0.50</td><td>0.55</td><td>0.60</td><td>普通</td><td>斤</td><td>2018-10-15</td><td></td></tr><tr><td style=\"text-align:left;padding-left:5px;\">娃娃菜</td><td>1.00</td><td>1.10</td><td>1.20</td><td>普通</td><td>斤</td><td>2018-10-15</td><td></td></tr><tr class=\"tr_color\"><td style=\"text-align:left;padding-left:5px;\">芹菜</td><td>0.90</td><td>1.00</td><td>1.10</td><td>普通</td><td>斤</td><td>2018-10-15</td><td></td></tr><tr><td style=\"text-align:left;padding-left:5px;\">菠菜</td><td>0.80</td><td>1.05</td><td>1.30</td><td>普通</td><td>斤</td><td>2018-10-15</td><td></td></tr><tr class=\"tr_color\"><td style=\"text-align:left;padding-left:5px;\">番茄</td><td>1.00</td><td>2.10</td><td>3.20</td><td>普通</td><td>斤</td><td>2018-10-15</td><td></td></tr><tr><td style=\"text-align:left;padding-left:5px;\">番茄（白筐）</td><td>2.90</td><td>3.35</td><td>3.80</td><td>普通</td><td>斤</td><td>2018-10-15</td><td></td></tr><tr class=\"tr_color\"><td style=\"text-align:left;padding-left:5px;\">黄瓜（京）</td><td>0.90</td><td>1.10</td><td>1.30</td><td>普通</td><td>斤</td><td>2018-10-15</td><td></td></tr><tr><td style=\"text-align:left;padding-left:5px;\">黄瓜（鲜花）</td><td>1.20</td><td>1.50</td><td>1.80</td><td>普通</td><td>斤</td><td>2018-10-15</td><td></td></tr><tr class=\"tr_color\"><td style=\"text-align:left;padding-left:5px;\">乳黄瓜</td><td>2.00</td><td>2.25</td><td>2.50</td><td>普通</td><td>斤</td><td>2018-10-15</td><td></td></tr><tr><td style=\"text-align:left;padding-left:5px;\">茄子</td><td>0.80</td><td>1.10</td><td>1.40</td><td>普通</td><td>斤</td><td>2018-10-15</td><td></td></tr><tr class=\"tr_color\"><td style=\"text-align:left;padding-left:5px;\">架豆</td><td>2.00</td><td>2.80</td><td>3.60</td><td>普通</td><td>斤</td><td>2018-10-15</td><td></td></tr><tr><td style=\"text-align:left;padding-left:5px;\">尖椒</td><td>1.20</td><td>2.10</td><td>3.00</td><td>普通</td><td>斤</td><td>2018-10-15</td><td></td></tr><tr class=\"tr_color\"><td style=\"text-align:left;padding-left:5px;\">柿子椒</td><td>1.00</td><td>2.00</td><td>3.00</td><td>普通</td><td>斤</td><td>2018-10-15</td><td></td></tr><tr><td style=\"text-align:left;padding-left:5px;\">土豆</td><td>0.60</td><td>0.75</td><td>0.90</td><td>普通</td><td>斤</td><td>2018-10-15</td><td></td></tr><tr class=\"tr_color\"><td style=\"text-align:left;padding-left:5px;\">黄葱头</td><td>0.50</td><td>0.55</td><td>0.60</td><td>普通</td><td>斤</td><td>2018-10-15</td><td></td></tr><tr><td style=\"text-align:left;padding-left:5px;\">红葱头</td><td>0.60</td><td>0.75</td><td>0.90</td><td>普通</td><td>斤</td><td>2018-10-15</td><td></td></tr><tr class=\"tr_color\"><td style=\"text-align:left;padding-left:5px;\">葱（鲁）</td><td>1.30</td><td>1.45</td><td>1.60</td><td>普通</td><td>斤</td><td>2018-10-15</td><td></td></tr><tr><td style=\"text-align:left;padding-left:5px;\">葱（冀）</td><td>0.80</td><td>8.00</td><td>1.20</td><td>普通</td><td>斤</td><td>2018-10-15</td><td></td></tr><tr class=\"tr_color\"><td style=\"text-align:left;padding-left:5px;\">吊冬瓜</td><td>0.70</td><td>0.75</td><td>0.80</td><td>普通</td><td>斤</td><td>2018-10-15</td><td></td></tr><tr><td style=\"text-align:left;padding-left:5px;\">地冬瓜</td><td>0.35</td><td>0.40</td><td>0.45</td><td>普通</td><td>斤</td><td>2018-10-15</td><td></td></tr>\n",
      "</table>\n"
     ]
    }
   ],
   "source": [
    "def main():\n",
    "    headers = {\n",
    "    'User-Agent': 'Mozilla/5.0 (Windows NT 10.0; Win64; x64) AppleWebKit/537.36 (KHTML, like Gecko) Chrome/68.0.3440.75 Safari/537.36',\n",
    "    'Host': 'i.tianqi.com',\n",
    "    'Connection': 'keep-alive',\n",
    "    'Referer': 'http://www.xinfadi.com.cn/marketanalysis/1/list/1.sh:tml',\n",
    "    'Cookie':'ipPy=beijing; Hm_lvt_86f43783acc56b0c8abb5bb039edc763=1537836413,1537836456,1537836496; Hm_lpvt_86f43783acc56b0c8abb5bb039edc763=1537836496'\n",
    "    }\n",
    "    url = 'http://www.xinfadi.com.cn/marketanalysis/0/list/1.shtml'\n",
    "    result = requests.get(url, headers = headers)\n",
    "    soup= BeautifulSoup(result.content) #soup= BeautifulSoup(req.content, 'lxml')\n",
    "    pricetable = soup.find('table', attrs = {'class':'hq_table'})\n",
    "    print(pricetable)\n",
    "\n",
    "if __name__ == '__main__':\n",
    "    main()"
   ]
  },
  {
   "cell_type": "markdown",
   "metadata": {},
   "source": [
    "#### 2018.10.09有76210条蔬菜价格，共3811页。\n",
    "#### 2018.10.23有77918条蔬菜价格，共3896页。"
   ]
  },
  {
   "cell_type": "markdown",
   "metadata": {},
   "source": [
    "提取表格数据"
   ]
  },
  {
   "cell_type": "code",
   "execution_count": null,
   "metadata": {},
   "outputs": [],
   "source": [
    "# soup = BeautifulSoup(wb_data.text, 'lxml')\n",
    "# ranks = soup.select('.pc_temp_num')\n",
    "# titles = soup.select('.pc_temp_songlist > ul > li > a')"
   ]
  },
  {
   "cell_type": "code",
   "execution_count": 4,
   "metadata": {},
   "outputs": [
    {
     "name": "stdout",
     "output_type": "stream",
     "text": [
      "<td class=\"td_1\" width=\"90\">品名</td>\n"
     ]
    }
   ],
   "source": [
    "def main():\n",
    "    headers = {\n",
    "    'User-Agent': 'Mozilla/5.0 (Windows NT 10.0; Win64; x64) AppleWebKit/537.36 (KHTML, like Gecko) Chrome/68.0.3440.75 Safari/537.36',\n",
    "    'Host': 'i.tianqi.com',\n",
    "    'Connection': 'keep-alive',\n",
    "    'Referer': 'http://www.xinfadi.com.cn/marketanalysis/1/list/1.sh:tml',\n",
    "    'Cookie':'ipPy=beijing; Hm_lvt_86f43783acc56b0c8abb5bb039edc763=1537836413,1537836456,1537836496; Hm_lpvt_86f43783acc56b0c8abb5bb039edc763=1537836496'\n",
    "    }\n",
    "    url = 'http://www.xinfadi.com.cn/marketanalysis/0/list/1.shtml'\n",
    "    result = requests.get(url, headers = headers)\n",
    "    soup= BeautifulSoup(result.text, 'lxml') #soup= BeautifulSoup(req.content, 'lxml')\n",
    "    pricetable = soup.find('table', attrs = {'class':'hq_table'})\n",
    "    soup_1 = pricetable\n",
    "    names = soup_1.select('.tr_1 > td')\n",
    "    print(names[0])\n",
    "\n",
    "if __name__ == '__main__':\n",
    "    main()"
   ]
  },
  {
   "cell_type": "code",
   "execution_count": 7,
   "metadata": {},
   "outputs": [
    {
     "name": "stdout",
     "output_type": "stream",
     "text": [
      "<td style=\"text-align:left;padding-left:5px;\">油麦菜</td>\n"
     ]
    }
   ],
   "source": [
    "def main():\n",
    "    headers = {\n",
    "    'User-Agent': 'Mozilla/5.0 (Windows NT 10.0; Win64; x64) AppleWebKit/537.36 (KHTML, like Gecko) Chrome/68.0.3440.75 Safari/537.36',\n",
    "    'Host': 'i.tianqi.com',\n",
    "    'Connection': 'keep-alive',\n",
    "    'Referer': 'http://www.xinfadi.com.cn/marketanalysis/1/list/1.sh:tml',\n",
    "    'Cookie':'ipPy=beijing; Hm_lvt_86f43783acc56b0c8abb5bb039edc763=1537836413,1537836456,1537836496; Hm_lpvt_86f43783acc56b0c8abb5bb039edc763=1537836496'\n",
    "    }\n",
    "    url = 'http://www.xinfadi.com.cn/marketanalysis/1/list/1.shtml'\n",
    "    result = requests.get(url, headers = headers)\n",
    "    soup= BeautifulSoup(result.text, 'lxml') #soup= BeautifulSoup(req.content, 'lxml')\n",
    "    pricetable = soup.find('table', attrs = {'class':'hq_table'})\n",
    "    soup_1 = pricetable\n",
    "    names = soup_1.find('td', attrs = {'style':'text-align:left;padding-left:5px;'})\n",
    "    print(names)\n",
    "\n",
    "if __name__ == '__main__':\n",
    "    main()"
   ]
  },
  {
   "cell_type": "code",
   "execution_count": 12,
   "metadata": {},
   "outputs": [
    {
     "name": "stdout",
     "output_type": "stream",
     "text": [
      "[<td style=\"text-align:left;padding-left:5px;\">油麦菜</td>, <td style=\"text-align:left;padding-left:5px;\">玉米</td>, <td style=\"text-align:left;padding-left:5px;\">牛蒡</td>, <td style=\"text-align:left;padding-left:5px;\">小葱</td>, <td style=\"text-align:left;padding-left:5px;\">佛手瓜</td>, <td style=\"text-align:left;padding-left:5px;\">西芹</td>, <td style=\"text-align:left;padding-left:5px;\">小米椒</td>, <td style=\"text-align:left;padding-left:5px;\">美人椒</td>, <td style=\"text-align:left;padding-left:5px;\">彩椒</td>, <td style=\"text-align:left;padding-left:5px;\">瓠子</td>, <td style=\"text-align:left;padding-left:5px;\">茭白</td>, <td style=\"text-align:left;padding-left:5px;\">甘露</td>, <td style=\"text-align:left;padding-left:5px;\">鬼子姜</td>, <td style=\"text-align:left;padding-left:5px;\">雪里红</td>, <td style=\"text-align:left;padding-left:5px;\">芥菜头</td>, <td style=\"text-align:left;padding-left:5px;\">紫菜苔</td>, <td style=\"text-align:left;padding-left:5px;\">大白菜</td>, <td style=\"text-align:left;padding-left:5px;\">娃娃菜</td>, <td style=\"text-align:left;padding-left:5px;\">芹菜</td>, <td style=\"text-align:left;padding-left:5px;\">菠菜</td>]\n"
     ]
    }
   ],
   "source": [
    "def main():\n",
    "    headers = {\n",
    "    'User-Agent': 'Mozilla/5.0 (Windows NT 10.0; Win64; x64) AppleWebKit/537.36 (KHTML, like Gecko) Chrome/68.0.3440.75 Safari/537.36',\n",
    "    'Host': 'i.tianqi.com',\n",
    "    'Connection': 'keep-alive',\n",
    "    'Referer': 'http://www.xinfadi.com.cn/marketanalysis/1/list/1.sh:tml',\n",
    "    'Cookie':'ipPy=beijing; Hm_lvt_86f43783acc56b0c8abb5bb039edc763=1537836413,1537836456,1537836496; Hm_lpvt_86f43783acc56b0c8abb5bb039edc763=1537836496'\n",
    "    }\n",
    "    url = 'http://www.xinfadi.com.cn/marketanalysis/1/list/1.shtml'\n",
    "    result = requests.get(url, headers = headers)\n",
    "    soup= BeautifulSoup(result.text, 'lxml') #soup= BeautifulSoup(req.content, 'lxml')\n",
    "    pricetable = soup.find('table', attrs = {'class':'hq_table'})\n",
    "    soup_1 = pricetable\n",
    "    names = soup_1.find('td',attrs = {'style': 'text-align:left;padding-left:5px;'})\n",
    "    names = soup_1.find_all('td',attrs = {'style': 'text-align:left;padding-left:5px;'})\n",
    "    print(names)\n",
    "\n",
    "if __name__ == '__main__':\n",
    "    main()"
   ]
  },
  {
   "cell_type": "code",
   "execution_count": 27,
   "metadata": {},
   "outputs": [
    {
     "name": "stdout",
     "output_type": "stream",
     "text": [
      "[{'veg_name': '彩椒', 'low_price': 8.0, 'avg_price': 11.5, 'high_price': 15.0, 'specification': '普通', 'unit': '斤', 'data': '2018-10-23'}, {'veg_name': '瓠子', 'low_price': 0.6, 'avg_price': 1.3, 'high_price': 2.0, 'specification': '普通', 'unit': '斤', 'data': '2018-10-23'}, {'veg_name': '茭白', 'low_price': 1.8, 'avg_price': 2.15, 'high_price': 2.5, 'specification': '普通', 'unit': '斤', 'data': '2018-10-23'}, {'veg_name': '甘露', 'low_price': 3.7, 'avg_price': 3.75, 'high_price': 3.8, 'specification': '普通', 'unit': '斤', 'data': '2018-10-23'}, {'veg_name': '鬼子姜', 'low_price': 1.0, 'avg_price': 1.1, 'high_price': 1.2, 'specification': '普通', 'unit': '斤', 'data': '2018-10-23'}, {'veg_name': '雪里红', 'low_price': 0.3, 'avg_price': 0.38, 'high_price': 0.45, 'specification': '普通', 'unit': '斤', 'data': '2018-10-23'}, {'veg_name': '芥菜头', 'low_price': 0.3, 'avg_price': 0.38, 'high_price': 0.45, 'specification': '普通', 'unit': '斤', 'data': '2018-10-23'}, {'veg_name': '紫菜苔', 'low_price': 2.2, 'avg_price': 2.55, 'high_price': 2.9, 'specification': '普通', 'unit': '斤', 'data': '2018-10-23'}, {'veg_name': '大白菜', 'low_price': 0.35, 'avg_price': 0.4, 'high_price': 0.45, 'specification': '普通', 'unit': '斤', 'data': '2018-10-23'}, {'veg_name': '娃娃菜', 'low_price': 0.8, 'avg_price': 0.85, 'high_price': 0.9, 'specification': '普通', 'unit': '斤', 'data': '2018-10-23'}, {'veg_name': '芹菜', 'low_price': 0.6, 'avg_price': 0.7, 'high_price': 0.8, 'specification': '普通', 'unit': '斤', 'data': '2018-10-23'}, {'veg_name': '菠菜', 'low_price': 0.8, 'avg_price': 0.85, 'high_price': 0.9, 'specification': '普通', 'unit': '斤', 'data': '2018-10-23'}, {'veg_name': '番茄', 'low_price': 1.0, 'avg_price': 1.65, 'high_price': 2.3, 'specification': '普通', 'unit': '斤', 'data': '2018-10-23'}, {'veg_name': '番茄（白筐）', 'low_price': 2.5, 'avg_price': 3.0, 'high_price': 3.5, 'specification': '普通', 'unit': '斤', 'data': '2018-10-23'}, {'veg_name': '黄瓜（京）', 'low_price': 0.6, 'avg_price': 0.8, 'high_price': 1.0, 'specification': '普通', 'unit': '斤', 'data': '2018-10-23'}, {'veg_name': '黄瓜（鲜花）', 'low_price': 1.2, 'avg_price': 1.4, 'high_price': 1.6, 'specification': '普通', 'unit': '斤', 'data': '2018-10-23'}, {'veg_name': '乳黄瓜', 'low_price': 2.0, 'avg_price': 2.05, 'high_price': 2.1, 'specification': '普通', 'unit': '斤', 'data': '2018-10-23'}, {'veg_name': '茄子', 'low_price': 0.6, 'avg_price': 0.9, 'high_price': 1.2, 'specification': '普通', 'unit': '斤', 'data': '2018-10-23'}, {'veg_name': '架豆', 'low_price': 2.0, 'avg_price': 2.35, 'high_price': 2.7, 'specification': '普通', 'unit': '斤', 'data': '2018-10-23'}, {'veg_name': '尖椒', 'low_price': 1.5, 'avg_price': 2.0, 'high_price': 2.5, 'specification': '普通', 'unit': '斤', 'data': '2018-10-23'}]\n"
     ]
    }
   ],
   "source": [
    "PRICE_DATA =[]\n",
    "def main():\n",
    "    headers = {\n",
    "    'User-Agent': 'Mozilla/5.0 (Windows NT 10.0; Win64; x64) AppleWebKit/537.36 (KHTML, like Gecko) Chrome/68.0.3440.75 Safari/537.36',\n",
    "    'Host': 'i.tianqi.com',\n",
    "    'Connection': 'keep-alive',\n",
    "    'Referer': 'http://www.xinfadi.com.cn/marketanalysis/1/list/1.sh:tml',\n",
    "    'Cookie':'ipPy=beijing; Hm_lvt_86f43783acc56b0c8abb5bb039edc763=1537836413,1537836456,1537836496; Hm_lpvt_86f43783acc56b0c8abb5bb039edc763=1537836496'\n",
    "    }\n",
    "    url = 'http://www.xinfadi.com.cn/marketanalysis/1/list/1.shtml'\n",
    "    result = requests.get(url, headers = headers)\n",
    "    soup= BeautifulSoup(result.content, 'lxml') #soup= BeautifulSoup(req.content, 'lxml')\n",
    "    pricetable = soup.find('table', attrs = {'class':'hq_table'})\n",
    "    trs = pricetable.find_all('tr')[1:]\n",
    "    for tr in trs:\n",
    "        tds = tr.find_all('td')\n",
    "        veg_name = list(tds[0].stripped_strings)[0]\n",
    "        low_price = list(tds[1].stripped_strings)[0]\n",
    "        avg_price = list(tds[2].stripped_strings)[0]\n",
    "        high_price = list(tds[3].stripped_strings)[0]\n",
    "        specification = list(tds[4].stripped_strings)[0]\n",
    "        unit = list(tds[5].stripped_strings)[0]\n",
    "        data = list(tds[6].stripped_strings)[0]\n",
    "        PRICE_DATA.append({'veg_name': veg_name,\n",
    "                           'low_price': float(low_price),\n",
    "                           'avg_price': float(avg_price),\n",
    "                           'high_price': float(high_price),\n",
    "                           'specification': specification,\n",
    "                           'unit': unit,\n",
    "                           'data': data})\n",
    "    print(PRICE_DATA)\n",
    "       \n",
    "\n",
    "if __name__ == '__main__':\n",
    "    main()"
   ]
  },
  {
   "cell_type": "markdown",
   "metadata": {},
   "source": [
    "## 以上为过程稿，详见py文件"
   ]
  },
  {
   "cell_type": "code",
   "execution_count": 50,
   "metadata": {},
   "outputs": [
    {
     "name": "stdout",
     "output_type": "stream",
     "text": [
      "1.5\n"
     ]
    }
   ],
   "source": [
    "a=1.5\n",
    "print(float(a))"
   ]
  },
  {
   "cell_type": "code",
   "execution_count": null,
   "metadata": {},
   "outputs": [],
   "source": []
  }
 ],
 "metadata": {
  "kernelspec": {
   "display_name": "Python 3",
   "language": "python",
   "name": "python3"
  },
  "language_info": {
   "codemirror_mode": {
    "name": "ipython",
    "version": 3
   },
   "file_extension": ".py",
   "mimetype": "text/x-python",
   "name": "python",
   "nbconvert_exporter": "python",
   "pygments_lexer": "ipython3",
   "version": "3.6.6"
  }
 },
 "nbformat": 4,
 "nbformat_minor": 2
}
