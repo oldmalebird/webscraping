{
 "cells": [
  {
   "cell_type": "code",
   "execution_count": null,
   "metadata": {},
   "outputs": [],
   "source": [
    "#task_master.py\n",
    "import random, time, queue\n",
    "from multiprocessing.managers import BaseManager\n",
    "from multiprocessing import freeze_support\n",
    "\n",
    "#send queue 发送队列\n",
    "task_queue = queue.Queue()\n",
    "#receiver queue 接收队列\n",
    "result_queue = queue.Queue()\n",
    "\n",
    "class QueueManager(BaseManager):\n",
    "    pass\n",
    "\n",
    "#注册2个queue到网络上 使用callable和匿名函数关联了Queue对象\n",
    "'''仅适用Linux Windows下callable不能使用lambda表达式赋值\n",
    "QueueManager.register('get_task_queue', callable=lambda: task_queue)\n",
    "QueueManager.register('get_result_queue', callable=lambda: result_queue)\n",
    "'''\n",
    "def return_task_queue():\n",
    "    global task_queue\n",
    "    return task_queue\n",
    "def return_result_queue():\n",
    "    global result_queue\n",
    "    return result_queue\n",
    "\n",
    "def runf():\n",
    "    QueueManager.register('get_task_queue', callable=return_task_queue)\n",
    "    QueueManager.register('get_result_queue', callable=return_result_queue)\n",
    "    #绑定端口5000，设置验证密码'abc'\n",
    "    manager = QueueManager(address=('127.0.0.1', 5000), authkey=b'abc') \n",
    "    #Linux下address留空等于本机 Windows下不能留空 127.0.0.0即本机的地址\n",
    "    #启动Queue\n",
    "    manager.start()\n",
    "    #通过网络获取Queue对象\n",
    "    task = manager.get_task_queue()\n",
    "    result = manager.get_result_queue()\n",
    "    #开启示例任务\n",
    "    for i in range(10):\n",
    "        n = random.randint(0, 10000)\n",
    "        print('Put task %d to run...' %n)\n",
    "        task.put(n)\n",
    "    #读取任务结果\n",
    "    print('Try to get results...')\n",
    "    for i in range(10):\n",
    "        r = result.get(timeout=10)\n",
    "        print('Results: %s' %r)\n",
    "    manager.shutdown()\n",
    "    print('master has been shoutdown')\n",
    "\n",
    "if __name__ == '__main__':\n",
    "    freeze_support()\n",
    "    runf()\n"
   ]
  },
  {
   "cell_type": "code",
   "execution_count": null,
   "metadata": {},
   "outputs": [],
   "source": []
  }
 ],
 "metadata": {
  "kernelspec": {
   "display_name": "Python 3",
   "language": "python",
   "name": "python3"
  },
  "language_info": {
   "codemirror_mode": {
    "name": "ipython",
    "version": 3
   },
   "file_extension": ".py",
   "mimetype": "text/x-python",
   "name": "python",
   "nbconvert_exporter": "python",
   "pygments_lexer": "ipython3",
   "version": "3.6.6"
  }
 },
 "nbformat": 4,
 "nbformat_minor": 2
}
