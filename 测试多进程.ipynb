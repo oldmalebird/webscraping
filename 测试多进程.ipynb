{
 "cells": [
  {
   "cell_type": "code",
   "execution_count": 3,
   "metadata": {},
   "outputs": [],
   "source": [
    "import re\n",
    "import time\n",
    "import requests\n",
    "from multiprocessing import Pool\n",
    "from multiprocessing import freeze_support,Process"
   ]
  },
  {
   "cell_type": "code",
   "execution_count": null,
   "metadata": {},
   "outputs": [
    {
     "name": "stdout",
     "output_type": "stream",
     "text": [
      "start 1539648373.5423157\n",
      "a\n"
     ]
    }
   ],
   "source": [
    "def test(url):\n",
    "    print(url[-2:])\n",
    "    \n",
    "#urls = ['https://www.qiushibaike.com/8hr/page/{}/'.format(str(i)) for i in range(1,36)]\n",
    "urls_2 = ['asfdsadf','asdfdfrrt','fbnhfgf','fgsdfgfdgfdgdf']\n",
    "\n",
    "if __name__ == '__main__':\n",
    "    freeze_support()\n",
    "    start_2 = time.time()\n",
    "    print('start', start_2)\n",
    "    pool = Pool(processes=2)\n",
    "    print('a')\n",
    "    pool.map(test, urls_2)\n",
    "    print('b')\n",
    "    end_2 = time.time()\n",
    "    print('end:',end_2)\n",
    "    print('2进程爬虫耗时：',end_2-start_2)\n"
   ]
  },
  {
   "cell_type": "code",
   "execution_count": null,
   "metadata": {},
   "outputs": [],
   "source": [
    "start_1 = time.time()\n",
    "for url in urls_2:\n",
    "    test(url)\n",
    "end_1 = time.time()\n",
    "print('串行爬虫耗时：',end_1-start_1)"
   ]
  },
  {
   "cell_type": "code",
   "execution_count": null,
   "metadata": {},
   "outputs": [],
   "source": []
  },
  {
   "cell_type": "code",
   "execution_count": 1,
   "metadata": {},
   "outputs": [
    {
     "name": "stdout",
     "output_type": "stream",
     "text": [
      "Parent process 16016.\n",
      "Child process will start.\n",
      "Child process end.\n"
     ]
    }
   ],
   "source": [
    "from multiprocessing import Process\n",
    "import os\n",
    "\n",
    "# 子进程要执行的代码\n",
    "def run_proc(name):\n",
    "    print('Run child process %s (%s)...' % (name, os.getpid()))\n",
    "\n",
    "if __name__=='__main__':\n",
    "    print('Parent process %s.' % os.getpid())\n",
    "    p = Process(target=run_proc, args=('test',))\n",
    "    print('Child process will start.')\n",
    "    p.start()\n",
    "    p.join()\n",
    "    print('Child process end.')\n"
   ]
  },
  {
   "cell_type": "code",
   "execution_count": null,
   "metadata": {},
   "outputs": [
    {
     "name": "stdout",
     "output_type": "stream",
     "text": [
      "Parent process 16016.\n",
      "Waiting for all subprocesses done...\n"
     ]
    }
   ],
   "source": [
    "from multiprocessing import Pool\n",
    "import os, time, random\n",
    "\n",
    "def long_time_task(name):\n",
    "    print('Run task %s (%s)...' % (name, os.getpid()))\n",
    "    start = time.time()\n",
    "    time.sleep(random.random() * 3)\n",
    "    end = time.time()\n",
    "    print('Task %s runs %0.2f seconds.' % (name, (end - start)))\n",
    "\n",
    "if __name__=='__main__':\n",
    "    print('Parent process %s.' % os.getpid())\n",
    "    p = Pool(4)\n",
    "    for i in range(5):\n",
    "        p.apply_async(long_time_task, args=(i,))\n",
    "    print('Waiting for all subprocesses done...')\n",
    "    p.close()\n",
    "    p.join()\n",
    "    print('All subprocesses done.')"
   ]
  },
  {
   "cell_type": "code",
   "execution_count": 2,
   "metadata": {},
   "outputs": [],
   "source": [
    "#这个可以运行\n",
    "from multiprocessing import Process\n",
    "\n",
    "def f(name):\n",
    "    print('hello', name)\n",
    "\n",
    "if __name__ == '__main__':\n",
    "    p = Process(target=f, args=('bob',)) # 新建一个子进程p，目标函数是f，args是函数f的参数列表\n",
    "    p.start() # 开始执行进程\n",
    "    p.join() # 等待子进程结束"
   ]
  },
  {
   "cell_type": "markdown",
   "metadata": {},
   "source": [
    "### 在多进程中使用全局变量会出现问题"
   ]
  },
  {
   "cell_type": "code",
   "execution_count": 5,
   "metadata": {},
   "outputs": [
    {
     "name": "stdout",
     "output_type": "stream",
     "text": [
      "生产者<function current_thread at 0x0000022885A34BF8> 生产了92, 余额92\n",
      "0000000000000000000000生产者<function current_thread at 0x0000022885A34BF8> 生产了95, 余额187\n",
      "生产者<function current_thread at 0x0000022885A34BF8> 生产了42, 余额229消费者<function current_thread at 0x0000022885A34BF8>-消费了：89, 余额62\n",
      "\n",
      "生产者<function current_thread at 0x0000022885A34BF8> 生产了29, 余额91\n",
      "\n",
      "生产者<function current_thread at 0x0000022885A34BF8> 生产了62, 余额153消费者<function current_thread at 0x0000022885A34BF8>-消费了：68, 余额85\n",
      "\n",
      "生产者<function current_thread at 0x0000022885A34BF8> 生产了69, 余额154\n",
      "消费者<function current_thread at 0x0000022885A34BF8>-消费了：49, 余额105\n",
      "消费者<function current_thread at 0x0000022885A34BF8>-消费了：47, 余额58\n",
      "需要消费的钱为： 69, 余额为：58消费者<function current_thread at 0x0000022885A34BF8>-消费了：42, 余额16\n",
      "\n",
      "7680 172 92\n",
      "\n",
      "95 267\n",
      "生产者<function current_thread at 0x0000022885A34BF8> 生产了25, 余额292\n",
      "生产者<function current_thread at 0x0000022885A34BF8> 生产了88, 余额380\n",
      "生产者<function current_thread at 0x0000022885A34BF8> 生产了88, 余额468\n",
      "消费者<function current_thread at 0x0000022885A34BF8>-消费了：34, 余额333\n",
      "生产者<function current_thread at 0x0000022885A34BF8> 生产了38, 余额307\n",
      "消费者<function current_thread at 0x0000022885A34BF8>-消费了：58, 余额249\n",
      "生产者<function current_thread at 0x0000022885A34BF8> 生产了56, 余额305\n",
      "生产者<function current_thread at 0x0000022885A34BF8> 生产了99, 余额404消费者<function current_thread at 0x0000022885A34BF8>-消费了：97, 余额307\n",
      "\n",
      "消费者<function current_thread at 0x0000022885A34BF8>-消费了：74, 余额233\n",
      "消费者<function current_thread at 0x0000022885A34BF8>-消费了：31, 余额202消费者<function current_thread at 0x0000022885A34BF8>-消费了：86, 余额116\n",
      "\n",
      "1913 148\n",
      " 135\n",
      "20 168\n"
     ]
    }
   ],
   "source": [
    "import threading\n",
    "import time\n",
    "import random\n",
    "\n",
    "\n",
    "def greet(index):\n",
    "    print('hello world - %d') % index\n",
    "\n",
    "\n",
    "def line_run():\n",
    "    for x in range(5):\n",
    "        greet(x)\n",
    "\n",
    "\n",
    "def async_run():\n",
    "    for x in range(5):\n",
    "        th = treading.Thread(target=greet, args=[x])\n",
    "        th.start()\n",
    "\n",
    "\n",
    "MONEY = 0\n",
    "\n",
    "\n",
    "def producer():\n",
    "    while True:\n",
    "        global MONEY\n",
    "        random_money = random.randint(10, 100)\n",
    "        MONEY += random_money\n",
    "        print('生产者%s 生产了%d, 余额%d' % (threading.current_thread, random_money,\n",
    "                                     MONEY))\n",
    "        time.sleep(0.5)\n",
    "\n",
    "\n",
    "def comstomer():\n",
    "    while True:\n",
    "        global MONEY\n",
    "        random_money = random.randint(10, 100)\n",
    "        if MONEY > random_money:\n",
    "            MONEY -= random_money\n",
    "            print('消费者%s-消费了：%d, 余额%d' % (threading.current_thread,\n",
    "                                          random_money, MONEY))\n",
    "\n",
    "        else:\n",
    "            print('需要消费的钱为： %d, 余额为：%d' % (random_money, MONEY))\n",
    "        time.sleep(0.5)\n",
    "\n",
    "\n",
    "def p_c_test():\n",
    "    for x in range(3):\n",
    "        th = threading.Thread(target=producer)\n",
    "        th.start()\n",
    "    for x in range(3):\n",
    "        th = threading.Thread(target=comstomer)\n",
    "        th.start()\n",
    "\n",
    "\n",
    "if __name__ == '__main__':\n",
    "    p_c_test()\n"
   ]
  },
  {
   "cell_type": "markdown",
   "metadata": {},
   "source": [
    "### 所以需要添加进程锁"
   ]
  },
  {
   "cell_type": "code",
   "execution_count": null,
   "metadata": {},
   "outputs": [],
   "source": [
    "import threading\n",
    "import time\n",
    "import random\n",
    "\n",
    "def greet(index):\n",
    "    print('hello world - %d') % index\n",
    "\n",
    "\n",
    "def line_run():\n",
    "    for x in range(5):\n",
    "        greet(x)\n",
    "\n",
    "\n",
    "def async_run():\n",
    "    for x in range(5):\n",
    "        th = treading.Thread(target=greet, args=[x])\n",
    "        th.start()\n",
    "\n",
    "\n",
    "MONEY = 0\n",
    "\n",
    "\n",
    "def producer():\n",
    "    while True:\n",
    "        global MONEY\n",
    "        random_money = random.randint(10, 100)\n",
    "        MONEY += random_money\n",
    "        print('生产者%s 生产了%d, 余额%d' % (threading.current_thread, random_money,\n",
    "                                     MONEY))\n",
    "        time.sleep(0.5)\n",
    "\n",
    "\n",
    "def comstomer():\n",
    "    while True:\n",
    "        global MONEY\n",
    "        random_money = random.randint(10, 100)\n",
    "        if MONEY > random_money:\n",
    "            MONEY -= random_money\n",
    "            print('消费者%s-消费了：%d, 余额%d' % (threading.current_thread,\n",
    "                                          random_money, MONEY))\n",
    "\n",
    "        else:\n",
    "            print('需要消费的钱为： %d, 余额为：%d' % (random_money, MONEY))\n",
    "        time.sleep(0.5)\n",
    "\n",
    "\n",
    "def p_c_test():\n",
    "    for x in range(3):\n",
    "        th = threading.Thread(target=producer)\n",
    "        th.start()\n",
    "    for x in range(3):\n",
    "        th = threading.Thread(target=comstomer)\n",
    "        th.start()\n",
    "\n",
    "\n",
    "if __name__ == '__main__':\n",
    "    p_c_test()"
   ]
  },
  {
   "cell_type": "code",
   "execution_count": null,
   "metadata": {},
   "outputs": [],
   "source": []
  },
  {
   "cell_type": "code",
   "execution_count": null,
   "metadata": {},
   "outputs": [],
   "source": []
  },
  {
   "cell_type": "code",
   "execution_count": null,
   "metadata": {},
   "outputs": [],
   "source": []
  },
  {
   "cell_type": "code",
   "execution_count": null,
   "metadata": {},
   "outputs": [],
   "source": []
  },
  {
   "cell_type": "code",
   "execution_count": null,
   "metadata": {},
   "outputs": [],
   "source": []
  }
 ],
 "metadata": {
  "kernelspec": {
   "display_name": "Python 3",
   "language": "python",
   "name": "python3"
  },
  "language_info": {
   "codemirror_mode": {
    "name": "ipython",
    "version": 3
   },
   "file_extension": ".py",
   "mimetype": "text/x-python",
   "name": "python",
   "nbconvert_exporter": "python",
   "pygments_lexer": "ipython3",
   "version": "3.6.6"
  }
 },
 "nbformat": 4,
 "nbformat_minor": 2
}
