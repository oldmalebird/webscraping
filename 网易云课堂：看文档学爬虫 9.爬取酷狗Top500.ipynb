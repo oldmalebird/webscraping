{
 "cells": [
  {
   "cell_type": "markdown",
   "metadata": {},
   "source": [
    "# 网易云课堂：看文档学爬虫(python3.6)"
   ]
  },
  {
   "cell_type": "markdown",
   "metadata": {},
   "source": [
    "## 9.爬取酷狗Top500数据"
   ]
  },
  {
   "cell_type": "code",
   "execution_count": 11,
   "metadata": {},
   "outputs": [],
   "source": [
    "import time\n",
    "import requests\n",
    "from bs4 import BeautifulSoup\n",
    "from pymongo import MongoClient"
   ]
  },
  {
   "cell_type": "code",
   "execution_count": 12,
   "metadata": {},
   "outputs": [],
   "source": [
    "client = MongoClient() # mongodb server\n",
    "songs = client.kugou_db.songs # songs collection\n",
    "headers = {'user-Agent': 'Mozilla/5.0 (Windows NT 10.0; Win64; x64) AppleWebKit/537.36 (KHTML, like Gecko) Chrome/68.0.3440.75 Safari/537.36'}"
   ]
  },
  {
   "cell_type": "code",
   "execution_count": 13,
   "metadata": {},
   "outputs": [],
   "source": [
    "def get_info(url):\n",
    "    '''获取酷狗音乐Top500数据'''\n",
    "    wb_data = requests.get(url, headers = headers)\n",
    "    soup = BeautifulSoup(wb_data.text, 'lxml')\n",
    "    ranks = soup.select('.pc_temp_num')\n",
    "    titles = soup.select('.pc_temp_songlist > ul > li > a')\n",
    "    song_times = soup.select('.pc_tem_time')\n",
    "    for rank, title, song_time in zip(ranks, titles, song_times):\n",
    "        data = {\n",
    "            'rank': rank.get_text().strip(),\n",
    "            'singer': title.get_text().split('-')[0].strip(),\n",
    "            'song': title.get_text().slpit('-')[1].strip(),\n",
    "            'time': song_time.get_text().strip()\n",
    "        }\n",
    "        print(data)\n",
    "        song_id = songs.insert(data) #insert db\n",
    "        print(song_id)\n",
    "        print('------------------------------------------')\n",
    "\n",
    "if __name__ == '__main__':\n",
    "    # 列表生成器生成需要遍历的url\n",
    "    urls = ['http://www.kugou.com/yy/rank/home/{}-8888.html?from=rank'.format(str(i)) for i in range(1,24)]\n",
    "    for url in urls:\n",
    "        get_info(url)\n",
    "        time.sleep(1)"
   ]
  },
  {
   "cell_type": "code",
   "execution_count": null,
   "metadata": {},
   "outputs": [],
   "source": []
  },
  {
   "cell_type": "code",
   "execution_count": null,
   "metadata": {},
   "outputs": [],
   "source": []
  },
  {
   "cell_type": "code",
   "execution_count": null,
   "metadata": {},
   "outputs": [],
   "source": []
  },
  {
   "cell_type": "code",
   "execution_count": null,
   "metadata": {},
   "outputs": [],
   "source": []
  },
  {
   "cell_type": "code",
   "execution_count": null,
   "metadata": {},
   "outputs": [],
   "source": []
  },
  {
   "cell_type": "code",
   "execution_count": null,
   "metadata": {},
   "outputs": [],
   "source": []
  },
  {
   "cell_type": "code",
   "execution_count": null,
   "metadata": {},
   "outputs": [],
   "source": []
  },
  {
   "cell_type": "code",
   "execution_count": null,
   "metadata": {},
   "outputs": [],
   "source": []
  }
 ],
 "metadata": {
  "kernelspec": {
   "display_name": "Python 3",
   "language": "python",
   "name": "python3"
  },
  "language_info": {
   "codemirror_mode": {
    "name": "ipython",
    "version": 3
   },
   "file_extension": ".py",
   "mimetype": "text/x-python",
   "name": "python",
   "nbconvert_exporter": "python",
   "pygments_lexer": "ipython3",
   "version": "3.6.6"
  }
 },
 "nbformat": 4,
 "nbformat_minor": 2
}
